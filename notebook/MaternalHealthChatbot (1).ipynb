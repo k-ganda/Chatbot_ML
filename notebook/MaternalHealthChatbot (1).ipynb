{
  "cells": [
    {
      "cell_type": "markdown",
      "metadata": {
        "id": "_gpcDXomDT1Q"
      },
      "source": [
        "# LeaBot\n",
        "\n",
        "This is a chatbot designed to assist expectant mothers with access to information on pregnancy, postnatal care, and antenal care.\n",
        "\n",
        "The chatbot is implemented using a pre-trained transformer model.\n",
        "\n",
        "**STEPS**\n",
        "\n",
        "1. Collecting and loading dataset containing conversational pairs around maternal health\n",
        "\n",
        "2. Data Preprocessing; tokenisation, normalization, handling missing values.\n",
        "\n",
        "3. Selecting pre-trained Transformer model and fine tuning.\n",
        "\n",
        "4. Hyperparameter tuning; learning rate adjustments, batch size, optimizer selection, training epochs.\n",
        "\n",
        "5. Evaluation using appropriate NLP metrics eg BLEU score, F1 score, perplixity.\n",
        "\n",
        "**NOTE:** The chatbot will correctly answer relevant questions and will reject out of domain queries."
      ]
    },
    {
      "cell_type": "markdown",
      "metadata": {
        "id": "sD-PE86bIGDM"
      },
      "source": [
        "# 1. Loading the dataset.\n",
        "\n",
        "This section focuses on **loading the dataset** that will be used to train and evaluate the LeaBot chatbot.\n",
        "\n",
        "The dataset, *which contains conversational pairs related to maternal health*, is sourced from Hugging Face's `datasets` library. It is publicly available and can be accessed using the following identifier: `nyarkssss/maternal_1k`.\n",
        "\n",
        "The `datasets` library will be utilized to efficiently load this data into our Colab environment.\n",
        "\n",
        "We will then perform exploratory data analysis to gain insights into its structure and content."
      ]
    },
    {
      "cell_type": "code",
      "execution_count": 1,
      "metadata": {
        "colab": {
          "base_uri": "https://localhost:8080/"
        },
        "id": "fV1v700QJqMn",
        "outputId": "ff5343d9-035c-4455-94ad-710d08ac838d"
      },
      "outputs": [
        {
          "output_type": "stream",
          "name": "stdout",
          "text": [
            "Requirement already satisfied: datasets in /usr/local/lib/python3.11/dist-packages (3.3.1)\n",
            "Requirement already satisfied: filelock in /usr/local/lib/python3.11/dist-packages (from datasets) (3.17.0)\n",
            "Requirement already satisfied: numpy>=1.17 in /usr/local/lib/python3.11/dist-packages (from datasets) (1.26.4)\n",
            "Requirement already satisfied: pyarrow>=15.0.0 in /usr/local/lib/python3.11/dist-packages (from datasets) (17.0.0)\n",
            "Requirement already satisfied: dill<0.3.9,>=0.3.0 in /usr/local/lib/python3.11/dist-packages (from datasets) (0.3.8)\n",
            "Requirement already satisfied: pandas in /usr/local/lib/python3.11/dist-packages (from datasets) (2.2.2)\n",
            "Requirement already satisfied: requests>=2.32.2 in /usr/local/lib/python3.11/dist-packages (from datasets) (2.32.3)\n",
            "Requirement already satisfied: tqdm>=4.66.3 in /usr/local/lib/python3.11/dist-packages (from datasets) (4.67.1)\n",
            "Requirement already satisfied: xxhash in /usr/local/lib/python3.11/dist-packages (from datasets) (3.5.0)\n",
            "Requirement already satisfied: multiprocess<0.70.17 in /usr/local/lib/python3.11/dist-packages (from datasets) (0.70.16)\n",
            "Requirement already satisfied: fsspec<=2024.12.0,>=2023.1.0 in /usr/local/lib/python3.11/dist-packages (from fsspec[http]<=2024.12.0,>=2023.1.0->datasets) (2024.10.0)\n",
            "Requirement already satisfied: aiohttp in /usr/local/lib/python3.11/dist-packages (from datasets) (3.11.12)\n",
            "Requirement already satisfied: huggingface-hub>=0.24.0 in /usr/local/lib/python3.11/dist-packages (from datasets) (0.28.1)\n",
            "Requirement already satisfied: packaging in /usr/local/lib/python3.11/dist-packages (from datasets) (24.2)\n",
            "Requirement already satisfied: pyyaml>=5.1 in /usr/local/lib/python3.11/dist-packages (from datasets) (6.0.2)\n",
            "Requirement already satisfied: aiohappyeyeballs>=2.3.0 in /usr/local/lib/python3.11/dist-packages (from aiohttp->datasets) (2.4.6)\n",
            "Requirement already satisfied: aiosignal>=1.1.2 in /usr/local/lib/python3.11/dist-packages (from aiohttp->datasets) (1.3.2)\n",
            "Requirement already satisfied: attrs>=17.3.0 in /usr/local/lib/python3.11/dist-packages (from aiohttp->datasets) (25.1.0)\n",
            "Requirement already satisfied: frozenlist>=1.1.1 in /usr/local/lib/python3.11/dist-packages (from aiohttp->datasets) (1.5.0)\n",
            "Requirement already satisfied: multidict<7.0,>=4.5 in /usr/local/lib/python3.11/dist-packages (from aiohttp->datasets) (6.1.0)\n",
            "Requirement already satisfied: propcache>=0.2.0 in /usr/local/lib/python3.11/dist-packages (from aiohttp->datasets) (0.2.1)\n",
            "Requirement already satisfied: yarl<2.0,>=1.17.0 in /usr/local/lib/python3.11/dist-packages (from aiohttp->datasets) (1.18.3)\n",
            "Requirement already satisfied: typing-extensions>=3.7.4.3 in /usr/local/lib/python3.11/dist-packages (from huggingface-hub>=0.24.0->datasets) (4.12.2)\n",
            "Requirement already satisfied: charset-normalizer<4,>=2 in /usr/local/lib/python3.11/dist-packages (from requests>=2.32.2->datasets) (3.4.1)\n",
            "Requirement already satisfied: idna<4,>=2.5 in /usr/local/lib/python3.11/dist-packages (from requests>=2.32.2->datasets) (2.10)\n",
            "Requirement already satisfied: urllib3<3,>=1.21.1 in /usr/local/lib/python3.11/dist-packages (from requests>=2.32.2->datasets) (2.3.0)\n",
            "Requirement already satisfied: certifi>=2017.4.17 in /usr/local/lib/python3.11/dist-packages (from requests>=2.32.2->datasets) (2025.1.31)\n",
            "Requirement already satisfied: python-dateutil>=2.8.2 in /usr/local/lib/python3.11/dist-packages (from pandas->datasets) (2.8.2)\n",
            "Requirement already satisfied: pytz>=2020.1 in /usr/local/lib/python3.11/dist-packages (from pandas->datasets) (2025.1)\n",
            "Requirement already satisfied: tzdata>=2022.7 in /usr/local/lib/python3.11/dist-packages (from pandas->datasets) (2025.1)\n",
            "Requirement already satisfied: six>=1.5 in /usr/local/lib/python3.11/dist-packages (from python-dateutil>=2.8.2->pandas->datasets) (1.17.0)\n"
          ]
        }
      ],
      "source": [
        "# Install the datasets library\n",
        "!pip install datasets"
      ]
    },
    {
      "cell_type": "code",
      "execution_count": 2,
      "metadata": {
        "colab": {
          "base_uri": "https://localhost:8080/"
        },
        "id": "Zf1tNtcjJo9s",
        "outputId": "ffba78fe-b133-4135-f595-fd9eb4d8f9d8"
      },
      "outputs": [
        {
          "output_type": "stream",
          "name": "stdout",
          "text": [
            "Requirement already satisfied: evaluate in /usr/local/lib/python3.11/dist-packages (0.4.3)\n",
            "Requirement already satisfied: datasets>=2.0.0 in /usr/local/lib/python3.11/dist-packages (from evaluate) (3.3.1)\n",
            "Requirement already satisfied: numpy>=1.17 in /usr/local/lib/python3.11/dist-packages (from evaluate) (1.26.4)\n",
            "Requirement already satisfied: dill in /usr/local/lib/python3.11/dist-packages (from evaluate) (0.3.8)\n",
            "Requirement already satisfied: pandas in /usr/local/lib/python3.11/dist-packages (from evaluate) (2.2.2)\n",
            "Requirement already satisfied: requests>=2.19.0 in /usr/local/lib/python3.11/dist-packages (from evaluate) (2.32.3)\n",
            "Requirement already satisfied: tqdm>=4.62.1 in /usr/local/lib/python3.11/dist-packages (from evaluate) (4.67.1)\n",
            "Requirement already satisfied: xxhash in /usr/local/lib/python3.11/dist-packages (from evaluate) (3.5.0)\n",
            "Requirement already satisfied: multiprocess in /usr/local/lib/python3.11/dist-packages (from evaluate) (0.70.16)\n",
            "Requirement already satisfied: fsspec>=2021.05.0 in /usr/local/lib/python3.11/dist-packages (from fsspec[http]>=2021.05.0->evaluate) (2024.10.0)\n",
            "Requirement already satisfied: huggingface-hub>=0.7.0 in /usr/local/lib/python3.11/dist-packages (from evaluate) (0.28.1)\n",
            "Requirement already satisfied: packaging in /usr/local/lib/python3.11/dist-packages (from evaluate) (24.2)\n",
            "Requirement already satisfied: filelock in /usr/local/lib/python3.11/dist-packages (from datasets>=2.0.0->evaluate) (3.17.0)\n",
            "Requirement already satisfied: pyarrow>=15.0.0 in /usr/local/lib/python3.11/dist-packages (from datasets>=2.0.0->evaluate) (17.0.0)\n",
            "Requirement already satisfied: aiohttp in /usr/local/lib/python3.11/dist-packages (from datasets>=2.0.0->evaluate) (3.11.12)\n",
            "Requirement already satisfied: pyyaml>=5.1 in /usr/local/lib/python3.11/dist-packages (from datasets>=2.0.0->evaluate) (6.0.2)\n",
            "Requirement already satisfied: typing-extensions>=3.7.4.3 in /usr/local/lib/python3.11/dist-packages (from huggingface-hub>=0.7.0->evaluate) (4.12.2)\n",
            "Requirement already satisfied: charset-normalizer<4,>=2 in /usr/local/lib/python3.11/dist-packages (from requests>=2.19.0->evaluate) (3.4.1)\n",
            "Requirement already satisfied: idna<4,>=2.5 in /usr/local/lib/python3.11/dist-packages (from requests>=2.19.0->evaluate) (2.10)\n",
            "Requirement already satisfied: urllib3<3,>=1.21.1 in /usr/local/lib/python3.11/dist-packages (from requests>=2.19.0->evaluate) (2.3.0)\n",
            "Requirement already satisfied: certifi>=2017.4.17 in /usr/local/lib/python3.11/dist-packages (from requests>=2.19.0->evaluate) (2025.1.31)\n",
            "Requirement already satisfied: python-dateutil>=2.8.2 in /usr/local/lib/python3.11/dist-packages (from pandas->evaluate) (2.8.2)\n",
            "Requirement already satisfied: pytz>=2020.1 in /usr/local/lib/python3.11/dist-packages (from pandas->evaluate) (2025.1)\n",
            "Requirement already satisfied: tzdata>=2022.7 in /usr/local/lib/python3.11/dist-packages (from pandas->evaluate) (2025.1)\n",
            "Requirement already satisfied: aiohappyeyeballs>=2.3.0 in /usr/local/lib/python3.11/dist-packages (from aiohttp->datasets>=2.0.0->evaluate) (2.4.6)\n",
            "Requirement already satisfied: aiosignal>=1.1.2 in /usr/local/lib/python3.11/dist-packages (from aiohttp->datasets>=2.0.0->evaluate) (1.3.2)\n",
            "Requirement already satisfied: attrs>=17.3.0 in /usr/local/lib/python3.11/dist-packages (from aiohttp->datasets>=2.0.0->evaluate) (25.1.0)\n",
            "Requirement already satisfied: frozenlist>=1.1.1 in /usr/local/lib/python3.11/dist-packages (from aiohttp->datasets>=2.0.0->evaluate) (1.5.0)\n",
            "Requirement already satisfied: multidict<7.0,>=4.5 in /usr/local/lib/python3.11/dist-packages (from aiohttp->datasets>=2.0.0->evaluate) (6.1.0)\n",
            "Requirement already satisfied: propcache>=0.2.0 in /usr/local/lib/python3.11/dist-packages (from aiohttp->datasets>=2.0.0->evaluate) (0.2.1)\n",
            "Requirement already satisfied: yarl<2.0,>=1.17.0 in /usr/local/lib/python3.11/dist-packages (from aiohttp->datasets>=2.0.0->evaluate) (1.18.3)\n",
            "Requirement already satisfied: six>=1.5 in /usr/local/lib/python3.11/dist-packages (from python-dateutil>=2.8.2->pandas->evaluate) (1.17.0)\n"
          ]
        }
      ],
      "source": [
        "!pip install evaluate"
      ]
    },
    {
      "cell_type": "code",
      "execution_count": 3,
      "metadata": {
        "id": "aYpLkZneX76H"
      },
      "outputs": [],
      "source": [
        "# Importing libraries\n",
        "import pandas as pd\n",
        "import tensorflow as tf\n",
        "from transformers import (\n",
        "    T5Tokenizer,\n",
        "    T5ForConditionalGeneration,\n",
        "    TrainingArguments,\n",
        "    Trainer\n",
        ")\n",
        "from datasets import load_dataset, Dataset\n",
        "import numpy as np\n",
        "import matplotlib.pyplot as plt\n",
        "import seaborn as sns\n",
        "import datasets\n",
        "from sklearn.model_selection import train_test_split\n",
        "from evaluate import load\n",
        "import os\n",
        "import torch\n"
      ]
    },
    {
      "cell_type": "code",
      "execution_count": 4,
      "metadata": {
        "id": "Xdtr9q0SC7Rt",
        "colab": {
          "base_uri": "https://localhost:8080/"
        },
        "outputId": "4583cd4b-37ea-405c-fe58-f58597efb2e5"
      },
      "outputs": [
        {
          "output_type": "stream",
          "name": "stderr",
          "text": [
            "/usr/local/lib/python3.11/dist-packages/huggingface_hub/utils/_auth.py:94: UserWarning: \n",
            "The secret `HF_TOKEN` does not exist in your Colab secrets.\n",
            "To authenticate with the Hugging Face Hub, create a token in your settings tab (https://huggingface.co/settings/tokens), set it as secret in your Google Colab and restart your session.\n",
            "You will be able to reuse this secret in all of your notebooks.\n",
            "Please note that authentication is recommended but still optional to access public models or datasets.\n",
            "  warnings.warn(\n"
          ]
        }
      ],
      "source": [
        "# Loading the dataset from Datasets\n",
        "ds = load_dataset(\"nyarkssss/maternal_1k\")"
      ]
    },
    {
      "cell_type": "markdown",
      "metadata": {
        "id": "W5OsxBq4Kw8T"
      },
      "source": [
        "# 2. Exploring the Data"
      ]
    },
    {
      "cell_type": "code",
      "execution_count": 5,
      "metadata": {
        "colab": {
          "base_uri": "https://localhost:8080/"
        },
        "id": "8_rJpl_XK0HS",
        "outputId": "b708b580-cd2e-46c5-83b5-efffe92571e9"
      },
      "outputs": [
        {
          "output_type": "execute_result",
          "data": {
            "text/plain": [
              "DatasetDict({\n",
              "    train: Dataset({\n",
              "        features: ['question', 'answer', 'domain', 'context'],\n",
              "        num_rows: 1035\n",
              "    })\n",
              "})"
            ]
          },
          "metadata": {},
          "execution_count": 5
        }
      ],
      "source": [
        "# Display the Dataset object to inspect structure and content\n",
        "ds"
      ]
    },
    {
      "cell_type": "markdown",
      "metadata": {
        "id": "6vwHveOvLRP9"
      },
      "source": [
        "\n",
        "\n",
        "---\n",
        "\n",
        "\n",
        "Our dataset contains 1035 rows and is only split into train with features: question(questions relating to maternal health), answer(corresponding answers to the questions), domain(the area of maternal health) and context.\n",
        "\n",
        "\n",
        "---\n",
        "\n"
      ]
    },
    {
      "cell_type": "code",
      "source": [
        "print(f\"Original dataset size: {ds['train'].num_rows}\")"
      ],
      "metadata": {
        "colab": {
          "base_uri": "https://localhost:8080/"
        },
        "id": "z1fn_pC-HCna",
        "outputId": "8b20d8ca-6fda-4c83-dcc8-078d5087aeea"
      },
      "execution_count": 6,
      "outputs": [
        {
          "output_type": "stream",
          "name": "stdout",
          "text": [
            "Original dataset size: 1035\n"
          ]
        }
      ]
    },
    {
      "cell_type": "code",
      "execution_count": 7,
      "metadata": {
        "colab": {
          "base_uri": "https://localhost:8080/"
        },
        "id": "_bI9tCUcMfwA",
        "outputId": "1becf975-c228-4da3-b91b-640ac9f73ea1"
      },
      "outputs": [
        {
          "output_type": "stream",
          "name": "stdout",
          "text": [
            "{'question': Value(dtype='string', id=None), 'answer': Value(dtype='string', id=None), 'domain': Value(dtype='string', id=None), 'context': Value(dtype='string', id=None)}\n"
          ]
        }
      ],
      "source": [
        "# Exploring the datatypes of each column\n",
        "train_data = ds['train']\n",
        "print(train_data.features)"
      ]
    },
    {
      "cell_type": "markdown",
      "metadata": {
        "id": "ZHlXuyJsNC_a"
      },
      "source": [
        "\n",
        "```\n",
        "# All columns are of datatype \"string\"\n",
        "```"
      ]
    },
    {
      "cell_type": "code",
      "execution_count": 8,
      "metadata": {
        "colab": {
          "base_uri": "https://localhost:8080/"
        },
        "id": "mxn0GDR5NUed",
        "outputId": "3f52de9f-ccf6-4279-9293-533a6ea39f64"
      },
      "outputs": [
        {
          "output_type": "stream",
          "name": "stdout",
          "text": [
            "{'question': 'What are early signs of hunger in a baby?', 'answer': 'Early signs of hunger include rooting reflex (turning head and opening mouth), sucking on hands or fingers, making sucking motions with the mouth, and becoming more alert and active. Crying is a late hunger sign and can make latching more difficult.', 'domain': 'Baby Care', 'context': 'Postpartum'}\n"
          ]
        }
      ],
      "source": [
        "# Display row 5 from training dataset to get the content\n",
        "print(train_data[5])"
      ]
    },
    {
      "cell_type": "markdown",
      "metadata": {
        "id": "iCxf1Yn0OyKZ"
      },
      "source": [
        "# 3. Data Preprocessing"
      ]
    },
    {
      "cell_type": "markdown",
      "metadata": {
        "id": "GAp45glIRdhr"
      },
      "source": [
        "**Check for missing values**"
      ]
    },
    {
      "cell_type": "code",
      "execution_count": 9,
      "metadata": {
        "colab": {
          "base_uri": "https://localhost:8080/"
        },
        "id": "QkHmlrSWRhMg",
        "outputId": "8cb48540-52a4-475d-bb47-516c17f357a9"
      },
      "outputs": [
        {
          "output_type": "stream",
          "name": "stdout",
          "text": [
            "{'question': 0, 'answer': 0, 'domain': 0, 'context': 1}\n"
          ]
        }
      ],
      "source": [
        "# Initialize a dictionary to store missing value counts for each column.\n",
        "missing_counts = {col: 0 for col in train_data.features}\n",
        "\n",
        "# Iterate through each data point in the training dataset.\n",
        "for example in train_data:\n",
        "    # Iterate through each column in the current data point.\n",
        "    for col in train_data.features:\n",
        "        # Check if the value in the current column is None\n",
        "        if example[col] is None:\n",
        "            # If missing, increment the count for that column in the dictionary.\n",
        "            missing_counts[col] += 1\n",
        "\n",
        "# Print the missing value counts for each column.\n",
        "print(missing_counts)"
      ]
    },
    {
      "cell_type": "markdown",
      "metadata": {
        "id": "mdaXG6EwR8pn"
      },
      "source": [
        "\n",
        "\n",
        "---\n",
        "\n",
        "\n",
        "There is 1 missing value in the column 'context'. The rest of the columns have no missing values.\n",
        "\n",
        "Let's check where the missing value is appearning to know how to handle it\n",
        "\n",
        "\n",
        "---\n",
        "\n"
      ]
    },
    {
      "cell_type": "code",
      "execution_count": 10,
      "metadata": {
        "colab": {
          "base_uri": "https://localhost:8080/"
        },
        "id": "-ghljDYSScA-",
        "outputId": "60a94018-54ee-4749-c6c2-b9fcee99ab15"
      },
      "outputs": [
        {
          "output_type": "stream",
          "name": "stdout",
          "text": [
            "Missing value in 'context' found at row index: 8\n"
          ]
        }
      ],
      "source": [
        "# Convert the Dataset to pandas DataFrame\n",
        "train_df = pd.DataFrame(train_data)\n",
        "# Check for the row index of the missing value\n",
        "missing_row_index = train_df[train_df['context'].isnull()].index[0]\n",
        "# Prints the row\n",
        "print(f\"Missing value in 'context' found at row index: {missing_row_index}\")"
      ]
    },
    {
      "cell_type": "markdown",
      "metadata": {
        "id": "6vnVssmHSzYM"
      },
      "source": [
        "\n",
        "\n",
        "---\n",
        "\n",
        "\n",
        "The missing value is in row index 8, we will check the whole row\n",
        "\n",
        "\n",
        "---\n",
        "\n"
      ]
    },
    {
      "cell_type": "code",
      "execution_count": 11,
      "metadata": {
        "colab": {
          "base_uri": "https://localhost:8080/"
        },
        "id": "pWkQ57nZS4CO",
        "outputId": "6a183f86-8e8d-446d-9792-4e8c6547bf30"
      },
      "outputs": [
        {
          "output_type": "stream",
          "name": "stdout",
          "text": [
            "{'question': 'What should I do if my baby falls asleep too soon while breastfeeding?', 'answer': 'If your baby becomes too sleepy while feeding, try stroking the bottom of the baby’s foot, sitting baby up for burping, loosening baby’s clothing, changing breastfeeding positions, or gently squeezing and massaging the breast to encourage milk flow.', 'domain': 'Baby Care', 'context': None}\n"
          ]
        }
      ],
      "source": [
        "# prints row 8 with the missing context\n",
        "print(train_data[8])"
      ]
    },
    {
      "cell_type": "markdown",
      "metadata": {
        "id": "Qqo6NeddVgQ7"
      },
      "source": [
        "\n",
        "\n",
        "---\n",
        "\n",
        "\n",
        "From the 5th row, we had the same domain which was baby care and the context was postpartum, so we can as well use that context postpartum in row 8.\n",
        "\n",
        "\n",
        "---\n",
        "\n"
      ]
    },
    {
      "cell_type": "code",
      "execution_count": 12,
      "metadata": {
        "id": "ZsKjxT-fV5R-"
      },
      "outputs": [],
      "source": [
        "# Convert train_data to pandas Dataframe\n",
        "train_df = pd.DataFrame(train_data)\n",
        "\n",
        "# Using the same context in row 5 to fill in the missing context\n",
        "train_df.loc[missing_row_index, 'context'] = train_df.loc[5, 'context']\n",
        "\n",
        "# Convert back to DatasetDict\n",
        "train_data = datasets.Dataset.from_pandas(train_df)"
      ]
    },
    {
      "cell_type": "code",
      "execution_count": 13,
      "metadata": {
        "colab": {
          "base_uri": "https://localhost:8080/"
        },
        "id": "ySv-5ro7WV7d",
        "outputId": "e8e3d56b-3ff7-4aaf-b980-82907b07b137"
      },
      "outputs": [
        {
          "output_type": "stream",
          "name": "stdout",
          "text": [
            "{'question': 0, 'answer': 0, 'domain': 0, 'context': 0}\n"
          ]
        }
      ],
      "source": [
        "# Confirm if the missing data was handled\n",
        "# Initialize a dictionary to store missing value counts for each column.\n",
        "missing_counts = {col: 0 for col in train_data.features}\n",
        "\n",
        "# Iterate through each data point in the training dataset.\n",
        "for example in train_data:\n",
        "    # Iterate through each column in the current data point.\n",
        "    for col in train_data.features:\n",
        "        # Check if the value in the current column is None\n",
        "        if example[col] is None:\n",
        "            # If missing, increment the count for that column in the dictionary.\n",
        "            missing_counts[col] += 1\n",
        "\n",
        "# Print the missing value counts for each column.\n",
        "print(missing_counts)"
      ]
    },
    {
      "cell_type": "markdown",
      "source": [
        "**Check for duplicates**\n",
        "\n",
        "On reviewing the dataset, I found duplicate questions with varying answers.\n",
        "\n",
        "Check and confirm that then handle by keeping only first instance."
      ],
      "metadata": {
        "id": "T4XEVApb1HFX"
      }
    },
    {
      "cell_type": "code",
      "source": [
        "# Convert the dataset to a Pandas DataFrame\n",
        "train_df = pd.DataFrame(train_data)\n",
        "\n",
        "# Group by 'question' and check if there are multiple unique answers\n",
        "duplicate_questions = train_df.groupby('question')['answer'].nunique()\n",
        "duplicate_questions = duplicate_questions[duplicate_questions > 1]\n",
        "\n",
        "# Print the duplicate questions with different answers\n",
        "for question, count in duplicate_questions.items():\n",
        "    print(f\"Question: {question}\")\n",
        "    print(f\"Number of Different Answers: {count}\")\n",
        "    print(train_df[train_df['question'] == question][['question', 'answer']])\n",
        "    print(\"-\" * 20) # Line separator"
      ],
      "metadata": {
        "colab": {
          "base_uri": "https://localhost:8080/"
        },
        "id": "2Go4s6Fh1fJ4",
        "outputId": "6f7e2df3-6077-4cac-c458-b8634e9e0f29"
      },
      "execution_count": 14,
      "outputs": [
        {
          "output_type": "stream",
          "name": "stdout",
          "text": [
            "Question: How can I manage constipation during pregnancy?\n",
            "Number of Different Answers: 2\n",
            "                                            question  \\\n",
            "385  How can I manage constipation during pregnancy?   \n",
            "937  How can I manage constipation during pregnancy?   \n",
            "\n",
            "                                                answer  \n",
            "385  Eat fiber-rich foods like fruits, vegetables, ...  \n",
            "937  Ensure your diet includes plenty of fresh frui...  \n",
            "--------------------\n",
            "Question: How can I relieve abdominal and groin pain during pregnancy?\n",
            "Number of Different Answers: 2\n",
            "                                              question  \\\n",
            "898  How can I relieve abdominal and groin pain dur...   \n",
            "929  How can I relieve abdominal and groin pain dur...   \n",
            "\n",
            "                                                answer  \n",
            "898  You can relieve abdominal and groin pain by ly...  \n",
            "929  You can lie on your side with your knees and h...  \n",
            "--------------------\n",
            "Question: How can I relieve leg cramps during pregnancy?\n",
            "Number of Different Answers: 2\n",
            "                                           question  \\\n",
            "455  How can I relieve leg cramps during pregnancy?   \n",
            "905  How can I relieve leg cramps during pregnancy?   \n",
            "\n",
            "                                                answer  \n",
            "455  Stretching your calf muscles and staying hydra...  \n",
            "905  To relieve leg cramps, try gently massaging th...  \n",
            "--------------------\n",
            "Question: How much weight should I gain during pregnancy?\n",
            "Number of Different Answers: 2\n",
            "                                            question  \\\n",
            "408  How much weight should I gain during pregnancy?   \n",
            "445  How much weight should I gain during pregnancy?   \n",
            "\n",
            "                                                answer  \n",
            "408  The recommended weight gain during pregnancy v...  \n",
            "445  The recommended weight gain during pregnancy d...  \n",
            "--------------------\n",
            "Question: What are the risks of malaria during pregnancy?\n",
            "Number of Different Answers: 2\n",
            "                                            question  \\\n",
            "160  What are the risks of malaria during pregnancy?   \n",
            "175  What are the risks of malaria during pregnancy?   \n",
            "\n",
            "                                                answer  \n",
            "160  Malaria during pregnancy poses significant ris...  \n",
            "175  Malaria during pregnancy can cause maternal an...  \n",
            "--------------------\n",
            "Question: What are the symptoms of a miscarriage?\n",
            "Number of Different Answers: 2\n",
            "                                   question  \\\n",
            "65  What are the symptoms of a miscarriage?   \n",
            "74  What are the symptoms of a miscarriage?   \n",
            "\n",
            "                                               answer  \n",
            "65  The main symptom of a miscarriage is vaginal b...  \n",
            "74  Symptoms of a miscarriage may include vaginal ...  \n",
            "--------------------\n",
            "Question: What causes hemorrhoids during pregnancy?\n",
            "Number of Different Answers: 2\n",
            "                                      question  \\\n",
            "386  What causes hemorrhoids during pregnancy?   \n",
            "925  What causes hemorrhoids during pregnancy?   \n",
            "\n",
            "                                                answer  \n",
            "386  Hemorrhoids occur due to increased pressure on...  \n",
            "925  Hemorrhoids during pregnancy are caused by hor...  \n",
            "--------------------\n",
            "Question: What is a miscarriage?\n",
            "Number of Different Answers: 2\n",
            "                  question                                             answer\n",
            "40  What is a miscarriage?  A miscarriage is the loss of a baby before 23 ...\n",
            "72  What is a miscarriage?  A miscarriage is the loss of a pregnancy befor...\n",
            "--------------------\n",
            "Question: What is postpartum depression (PPD)?\n",
            "Number of Different Answers: 2\n",
            "                                 question  \\\n",
            "296  What is postpartum depression (PPD)?   \n",
            "312  What is postpartum depression (PPD)?   \n",
            "\n",
            "                                                answer  \n",
            "296  Postpartum depression (PPD) is a type of depre...  \n",
            "312  Postpartum depression (PPD) is a serious condi...  \n",
            "--------------------\n",
            "Question: What is postpartum obsessive-compulsive disorder (OCD)?\n",
            "Number of Different Answers: 2\n",
            "                                              question  \\\n",
            "288  What is postpartum obsessive-compulsive disord...   \n",
            "301  What is postpartum obsessive-compulsive disord...   \n",
            "\n",
            "                                                answer  \n",
            "288  Postpartum OCD involves persistent, intrusive ...  \n",
            "301  Postpartum OCD involves intrusive, persistent ...  \n",
            "--------------------\n",
            "Question: What is postpartum post-traumatic stress disorder (PTSD)?\n",
            "Number of Different Answers: 2\n",
            "                                              question  \\\n",
            "289  What is postpartum post-traumatic stress disor...   \n",
            "303  What is postpartum post-traumatic stress disor...   \n",
            "\n",
            "                                                answer  \n",
            "289  Postpartum PTSD can occur after a traumatic ch...  \n",
            "303  Postpartum PTSD occurs after a traumatic child...  \n",
            "--------------------\n",
            "Question: What is postpartum psychosis?\n",
            "Number of Different Answers: 2\n",
            "                          question  \\\n",
            "290  What is postpartum psychosis?   \n",
            "304  What is postpartum psychosis?   \n",
            "\n",
            "                                                answer  \n",
            "290  Postpartum psychosis is a rare but serious con...  \n",
            "304  Postpartum psychosis is a rare but severe cond...  \n",
            "--------------------\n"
          ]
        }
      ]
    },
    {
      "cell_type": "code",
      "source": [
        "# Drop duplicates, keeping only the first instance of each question\n",
        "train_df = train_df.drop_duplicates(subset=['question'], keep='first')\n",
        "\n",
        "# Convert back to a Hugging Face Dataset\n",
        "train_data = Dataset.from_pandas(train_df)"
      ],
      "metadata": {
        "id": "8WYAsxoa13tE"
      },
      "execution_count": 15,
      "outputs": []
    },
    {
      "cell_type": "markdown",
      "metadata": {
        "id": "HbLVdOv4WgoF"
      },
      "source": [
        "\n",
        "\n",
        "---\n",
        "\n",
        "\n",
        "Now, there are no missing values. nor duplicates. We can perform other preprocessing steps; tokenization and augmentation.\n",
        "\n",
        "But first let's define the model and tokenizer.\n",
        "\n",
        "\n",
        "---\n",
        "\n"
      ]
    },
    {
      "cell_type": "code",
      "execution_count": 16,
      "metadata": {
        "id": "NaKuHyoloyh2",
        "colab": {
          "base_uri": "https://localhost:8080/"
        },
        "outputId": "a5bd08f6-51b6-4184-f8a4-370ba7f0c330"
      },
      "outputs": [
        {
          "output_type": "stream",
          "name": "stderr",
          "text": [
            "You are using the default legacy behaviour of the <class 'transformers.models.t5.tokenization_t5.T5Tokenizer'>. This is expected, and simply means that the `legacy` (previous) behavior will be used so nothing changes for you. If you want to use the new behaviour, set `legacy=False`. This should only be set if you understand what it means, and thoroughly read the reason why this was added as explained in https://github.com/huggingface/transformers/pull/24565\n"
          ]
        }
      ],
      "source": [
        "# Defines the model and tokenizer\n",
        "tokenizer = T5Tokenizer.from_pretrained('google-t5/t5-base')\n",
        "model = T5ForConditionalGeneration.from_pretrained('google-t5/t5-base')\n"
      ]
    },
    {
      "cell_type": "markdown",
      "source": [
        "\n",
        "**Check the distribution of token lengths and maximum values in the dataset to determine a suitable value for padding and truncation.**"
      ],
      "metadata": {
        "id": "1CIuumUd3EJR"
      }
    },
    {
      "cell_type": "code",
      "source": [
        "# Function to calculate the distribution of sequence lengths\n",
        "def calculate_length_distribution(dataset, tokenizer):\n",
        "    input_lengths = [len(tokenizer(q)[\"input_ids\"]) for q in dataset[\"question\"]]\n",
        "    output_lengths = [len(tokenizer(a)[\"input_ids\"]) for a in dataset[\"answer\"]]\n",
        "\n",
        "    # Calculate percentiles\n",
        "    input_90th = np.percentile(input_lengths, 90)\n",
        "    input_95th = np.percentile(input_lengths, 95)\n",
        "    input_99th = np.percentile(input_lengths, 99)\n",
        "\n",
        "    output_90th = np.percentile(output_lengths, 90)\n",
        "    output_95th = np.percentile(output_lengths, 95)\n",
        "    output_99th = np.percentile(output_lengths, 99)\n",
        "\n",
        "    return {\n",
        "        \"input_length_percentiles\": (input_90th, input_95th, input_99th),\n",
        "        \"output_length_percentiles\": (output_90th, output_95th, output_99th)\n",
        "    }\n",
        "\n",
        "# Calculate and display the distributions before back translation\n",
        "distributions = calculate_length_distribution(train_data, tokenizer)\n",
        "print(\"Input Length Percentiles (90th, 95th, 99th):\", distributions[\"input_length_percentiles\"])\n",
        "print(\"Output Length Percentiles (90th, 95th, 99th):\", distributions[\"output_length_percentiles\"])\n"
      ],
      "metadata": {
        "colab": {
          "base_uri": "https://localhost:8080/"
        },
        "id": "e7hQje-Cwzis",
        "outputId": "339f0cc7-8edc-4484-80c1-4dcf1ad76123"
      },
      "execution_count": 17,
      "outputs": [
        {
          "output_type": "stream",
          "name": "stdout",
          "text": [
            "Input Length Percentiles (90th, 95th, 99th): (20.0, 23.0, 28.0)\n",
            "Output Length Percentiles (90th, 95th, 99th): (65.0, 78.94999999999993, 117.57999999999993)\n"
          ]
        }
      ]
    },
    {
      "cell_type": "code",
      "source": [
        "def get_max_token_length(dataset, field):\n",
        "    \"\"\"\n",
        "    Calculates the maximum token length for a specific field in a dataset.\n",
        "\n",
        "    Args:\n",
        "        dataset: The Hugging Face dataset.\n",
        "        field: The field name (e.g., 'question', 'answer').\n",
        "\n",
        "    Returns:\n",
        "        The maximum token length.\n",
        "    \"\"\"\n",
        "    max_length = 0\n",
        "    for example in dataset:\n",
        "        tokenized_text = tokenizer(example[field])\n",
        "        length = len(tokenized_text['input_ids'])\n",
        "        if length > max_length:\n",
        "            max_length = length\n",
        "    return max_length\n",
        "\n",
        "# Find maximum token lengths for questions and answers\n",
        "max_question_length = get_max_token_length(train_data, 'question')\n",
        "max_answer_length = get_max_token_length(train_data, 'answer')\n",
        "\n",
        "print(f\"Maximum token length for questions: {max_question_length}\")\n",
        "print(f\"Maximum token length for answers: {max_answer_length}\")"
      ],
      "metadata": {
        "colab": {
          "base_uri": "https://localhost:8080/"
        },
        "id": "Ssw9hn0F7Ujn",
        "outputId": "317f089a-8cc8-425a-dee5-930392e85aaa"
      },
      "execution_count": 18,
      "outputs": [
        {
          "output_type": "stream",
          "name": "stdout",
          "text": [
            "Maximum token length for questions: 39\n",
            "Maximum token length for answers: 237\n"
          ]
        }
      ]
    },
    {
      "cell_type": "markdown",
      "source": [
        "\n",
        "\n",
        "**For the inputs (questions):**\n",
        "\n",
        "**90%** of the questions are *20 tokens or fewer*.\n",
        "**95%** are *23 tokens or fewer*.\n",
        "**99%** are *28 tokens or fewer*.\n",
        "\n",
        "In addition, the max length is 39.\n",
        "\n",
        "Therefore, using a max_length of **45** for inputs should be suitable.\n",
        "\n",
        "**For the outputs (answers):**\n",
        "\n",
        "**90%** of the answers are 65 tokens or fewer.\n",
        "**95%** are 78 tokens or fewer.\n",
        "**99%** are 117 tokens or fewer.\n",
        "\n",
        "The maximum token length for answers is 237.\n",
        "\n",
        "Hence, using a max_length of **256** for outputs is appropriate, as it covers nearly all answers without truncating any significant content.\n",
        "\n",
        "\n",
        "---\n",
        "\n"
      ],
      "metadata": {
        "id": "vh-CJTB1x8rs"
      }
    },
    {
      "cell_type": "markdown",
      "source": [
        "# Data Augmentation: Back translation\n",
        "\n",
        "Since our dataset currently only includes a training split, we need to further split it into a test (validation) set. This will reduce the size of the training set and result in fewer variations for our chatbot to learn from.\n",
        "\n",
        "To address this, we use back translation as a data augmentation technique. This involves translating both the questions(input) into a different language (in this case, French) and then translating them back into English. This process generates additional samples and introduces subtle variations in the wording, which helps increase the diversity of the training data and improve the model's robustness."
      ],
      "metadata": {
        "id": "Ra-rEM9i3hFs"
      }
    },
    {
      "cell_type": "code",
      "source": [
        "!pip install nltk==3.8.1 googletrans==4.0.0-rc1"
      ],
      "metadata": {
        "colab": {
          "base_uri": "https://localhost:8080/"
        },
        "id": "LiqF0eQVhGJi",
        "outputId": "8d57450c-5a02-4f7f-c8e4-b79c8d202dde"
      },
      "execution_count": 19,
      "outputs": [
        {
          "output_type": "stream",
          "name": "stdout",
          "text": [
            "Requirement already satisfied: nltk==3.8.1 in /usr/local/lib/python3.11/dist-packages (3.8.1)\n",
            "Requirement already satisfied: googletrans==4.0.0-rc1 in /usr/local/lib/python3.11/dist-packages (4.0.0rc1)\n",
            "Requirement already satisfied: click in /usr/local/lib/python3.11/dist-packages (from nltk==3.8.1) (8.1.8)\n",
            "Requirement already satisfied: joblib in /usr/local/lib/python3.11/dist-packages (from nltk==3.8.1) (1.4.2)\n",
            "Requirement already satisfied: regex>=2021.8.3 in /usr/local/lib/python3.11/dist-packages (from nltk==3.8.1) (2024.11.6)\n",
            "Requirement already satisfied: tqdm in /usr/local/lib/python3.11/dist-packages (from nltk==3.8.1) (4.67.1)\n",
            "Requirement already satisfied: httpx==0.13.3 in /usr/local/lib/python3.11/dist-packages (from googletrans==4.0.0-rc1) (0.13.3)\n",
            "Requirement already satisfied: certifi in /usr/local/lib/python3.11/dist-packages (from httpx==0.13.3->googletrans==4.0.0-rc1) (2025.1.31)\n",
            "Requirement already satisfied: hstspreload in /usr/local/lib/python3.11/dist-packages (from httpx==0.13.3->googletrans==4.0.0-rc1) (2025.1.1)\n",
            "Requirement already satisfied: sniffio in /usr/local/lib/python3.11/dist-packages (from httpx==0.13.3->googletrans==4.0.0-rc1) (1.3.1)\n",
            "Requirement already satisfied: chardet==3.* in /usr/local/lib/python3.11/dist-packages (from httpx==0.13.3->googletrans==4.0.0-rc1) (3.0.4)\n",
            "Requirement already satisfied: idna==2.* in /usr/local/lib/python3.11/dist-packages (from httpx==0.13.3->googletrans==4.0.0-rc1) (2.10)\n",
            "Requirement already satisfied: rfc3986<2,>=1.3 in /usr/local/lib/python3.11/dist-packages (from httpx==0.13.3->googletrans==4.0.0-rc1) (1.5.0)\n",
            "Requirement already satisfied: httpcore==0.9.* in /usr/local/lib/python3.11/dist-packages (from httpx==0.13.3->googletrans==4.0.0-rc1) (0.9.1)\n",
            "Requirement already satisfied: h11<0.10,>=0.8 in /usr/local/lib/python3.11/dist-packages (from httpcore==0.9.*->httpx==0.13.3->googletrans==4.0.0-rc1) (0.9.0)\n",
            "Requirement already satisfied: h2==3.* in /usr/local/lib/python3.11/dist-packages (from httpcore==0.9.*->httpx==0.13.3->googletrans==4.0.0-rc1) (3.2.0)\n",
            "Requirement already satisfied: hyperframe<6,>=5.2.0 in /usr/local/lib/python3.11/dist-packages (from h2==3.*->httpcore==0.9.*->httpx==0.13.3->googletrans==4.0.0-rc1) (5.2.0)\n",
            "Requirement already satisfied: hpack<4,>=3.0 in /usr/local/lib/python3.11/dist-packages (from h2==3.*->httpcore==0.9.*->httpx==0.13.3->googletrans==4.0.0-rc1) (3.0.0)\n"
          ]
        }
      ]
    },
    {
      "cell_type": "code",
      "source": [
        "import nltk\n",
        "import random\n",
        "from nltk.corpus import wordnet\n",
        "from googletrans import Translator\n",
        "\n",
        "nltk.download('punkt')\n",
        "nltk.download('wordnet')"
      ],
      "metadata": {
        "colab": {
          "base_uri": "https://localhost:8080/"
        },
        "id": "4EMhBFbbhLEi",
        "outputId": "683de64e-272c-47da-bc23-aa2ad7321a22"
      },
      "execution_count": 20,
      "outputs": [
        {
          "output_type": "stream",
          "name": "stderr",
          "text": [
            "[nltk_data] Downloading package punkt to /root/nltk_data...\n",
            "[nltk_data]   Package punkt is already up-to-date!\n",
            "[nltk_data] Downloading package wordnet to /root/nltk_data...\n",
            "[nltk_data]   Package wordnet is already up-to-date!\n"
          ]
        },
        {
          "output_type": "execute_result",
          "data": {
            "text/plain": [
              "True"
            ]
          },
          "metadata": {},
          "execution_count": 20
        }
      ]
    },
    {
      "cell_type": "code",
      "source": [
        "def back_translate(text, target_lang='fr'):\n",
        "  # Initialize Google translator API\n",
        "  translator = Translator()\n",
        "\n",
        "  # Translate input to target language(French)\n",
        "  translated = translator.translate(text, dest=target_lang).text\n",
        "\n",
        "  # Translate back to English\n",
        "  back_translated = translator.translate(translated, dest='en').text\n",
        "\n",
        "  # return the back-translated text\n",
        "  return back_translated"
      ],
      "metadata": {
        "id": "K1RnwZDDhg3x"
      },
      "execution_count": 21,
      "outputs": []
    },
    {
      "cell_type": "code",
      "source": [
        "def augment_data_with_back_translation(dataset, num_augmented_samples=1000):\n",
        "    \"\"\"\n",
        "    Augments the dataset using back translation.\n",
        "\n",
        "    Args:\n",
        "        dataset: The original dataset to augment.\n",
        "        num_augmented_samples: The number of augmented samples to generate.\n",
        "\n",
        "    Returns:\n",
        "        A new dataset with augmented samples.\n",
        "    \"\"\"\n",
        "\n",
        "    augmented_samples = []\n",
        "    # List to store examples for inspection\n",
        "    examples_for_inspection = []\n",
        "\n",
        "    for _ in range(num_augmented_samples):\n",
        "        # Randomly select a sample from the dataset\n",
        "        random_index = random.randint(0, len(dataset) - 1)\n",
        "        sample = dataset[random_index]\n",
        "\n",
        "        # Apply back translation to the 'question' field\n",
        "        augmented_question = back_translate(sample['question'])\n",
        "\n",
        "        # Create a new augmented sample\n",
        "        augmented_sample = {\n",
        "            'question': augmented_question,\n",
        "            'answer': sample['answer'],\n",
        "            'domain': sample['domain'],\n",
        "            'context': sample['context']\n",
        "        }\n",
        "        augmented_samples.append(augmented_sample)\n",
        "\n",
        "        # Store the original and augmented questions for inspection\n",
        "        examples_for_inspection.append({\n",
        "            'original_question': sample['question'],\n",
        "            'augmented_question': augmented_question\n",
        "        })\n",
        "\n",
        "    # Create a new dataset with the augmented samples\n",
        "    augmented_dataset = datasets.Dataset.from_pandas(pd.DataFrame(augmented_samples))\n",
        "    augmented_data = datasets.concatenate_datasets([dataset, augmented_dataset])\n",
        "\n",
        "    # Print or inspect examples\n",
        "    print(\"Examples of Original and Augmented Questions:\")\n",
        "    for example in examples_for_inspection[:5]:  # Print first 5 examples\n",
        "        print(f\"Original: {example['original_question']}\")\n",
        "        print(f\"Augmented: {example['augmented_question']}\")\n",
        "        print(\"-\" * 20)\n",
        "\n",
        "    return augmented_data"
      ],
      "metadata": {
        "id": "BPNQg9FDhj4c"
      },
      "execution_count": 22,
      "outputs": []
    },
    {
      "cell_type": "markdown",
      "source": [
        "# Tokenization\n",
        "\n",
        "Here we will have a function that will use the T5Tokenizer to tokenizer our inputs and labels."
      ],
      "metadata": {
        "id": "o8t_N2GL79DE"
      }
    },
    {
      "cell_type": "code",
      "execution_count": 23,
      "metadata": {
        "id": "L8xGRjj9pNwR"
      },
      "outputs": [],
      "source": [
        "# Function for tokenization\n",
        "def tokenize_data(examples):\n",
        "    \"\"\"\n",
        "    Tokenizes the input dataset for training a T5 model.\n",
        "\n",
        "    Args:\n",
        "        examples (dict): A batch of data points from a Hugging Face dataset.\n",
        "                         Each batch contains a list of \"question\" and \"answer\" pairs.\n",
        "\n",
        "    Returns:\n",
        "        dict: A dictionary containing tokenized input sequences and labels,\n",
        "              formatted for model training.\n",
        "    \"\"\"\n",
        "\n",
        "    # Format the input text as \"chatbot: <question>\"\n",
        "    inputs = [f\"chatbot: {q}\" for q in examples[\"question\"]]\n",
        "\n",
        "    # Extract the corresponding target (answer)\n",
        "    targets = [a for a in examples[\"answer\"]]\n",
        "\n",
        "    # Tokenize the inputs (questions)\n",
        "    # Truncation ensuring the input doesn't exceed `max_length=128`\n",
        "    # Padding ensures all inputs have the same length\n",
        "    model_inputs = tokenizer(inputs, max_length=45, truncation=True, padding=\"max_length\")\n",
        "\n",
        "    # Tokenize the target (labels)\n",
        "    # Truncation and padding are applied just like with the inputs\n",
        "    labels = tokenizer(targets, max_length=256, truncation=True, padding=\"max_length\")\n",
        "\n",
        "    # Add the tokenized target labels to the input dictionary\n",
        "    model_inputs[\"labels\"] = labels[\"input_ids\"]\n",
        "\n",
        "    return model_inputs\n"
      ]
    },
    {
      "cell_type": "markdown",
      "metadata": {
        "id": "ieS5QcXitKAM"
      },
      "source": [
        "# Splitting\n",
        "\n",
        "Here we will split our dataset to train and validation sets.\n",
        "\n",
        "The train set will be augmented adding 500 extra samples.\n",
        "\n",
        "The sets are then passed to the preprocess function for tokenization."
      ]
    },
    {
      "cell_type": "code",
      "source": [
        "# 80-20 train split on training dataset\n",
        "ds = train_data.train_test_split(test_size=0.2, seed=42)\n",
        "\n",
        "# Apply augmentation to the training set\n",
        "train_dataset = augment_data_with_back_translation(ds['train'], num_augmented_samples=500)\n",
        "\n",
        "\n"
      ],
      "metadata": {
        "colab": {
          "base_uri": "https://localhost:8080/"
        },
        "id": "Yvldn2EphnXQ",
        "outputId": "c0d68bf0-0354-45c5-e287-c31e917f1553"
      },
      "execution_count": 25,
      "outputs": [
        {
          "output_type": "stream",
          "name": "stdout",
          "text": [
            "Examples of Original and Augmented Questions:\n",
            "Original: What should I do if my nipples are sore from breastfeeding?\n",
            "Augmented: What should I do if my nipples are painful from breastfeeding?\n",
            "--------------------\n",
            "Original: I’ve noticed some cramping and pulling sensations in my lower abdomen. Is this normal, or should I be worried?\n",
            "Augmented: I noticed feelings of cramps and shooting at the bottom of the abdomen. Is it normal or should I worry?\n",
            "--------------------\n",
            "Original: What are the danger signs for mothers and newborns after childbirth?\n",
            "Augmented: What are the signs of danger for mothers and newborns after childbirth?\n",
            "--------------------\n",
            "Original: I have persistent lower back pain after childbirth. Is this normal?\n",
            "Augmented: I have persistent pain in the lower back after childbirth. Is it normal?\n",
            "--------------------\n",
            "Original: What are common postpartum perineal changes and how can I care for them?\n",
            "Augmented: What are the common postpartum perineal changes and how can I take care of them?\n",
            "--------------------\n"
          ]
        }
      ]
    },
    {
      "cell_type": "markdown",
      "source": [
        "From the few examples, the augmented questions do make sense and we can proceed."
      ],
      "metadata": {
        "id": "o81vzP3t_UYg"
      }
    },
    {
      "cell_type": "code",
      "source": [
        "# Apply (tokenization) to the train and val sets\n",
        "train_dataset = train_dataset.map(tokenize_data, batched=True)\n",
        "val_dataset = ds['test'].map(tokenize_data, batched=True)"
      ],
      "metadata": {
        "colab": {
          "base_uri": "https://localhost:8080/",
          "height": 81,
          "referenced_widgets": [
            "11a833ff44b04942b4962dbd212e253a",
            "73f1fd2bdbff417abd8fe9e63406622b",
            "5a027d979b7f46a89658e53483285532",
            "4b8416cfa4cf49a2ad33f8736b547cb0",
            "1f9122d4d5ba4f10ba2929f150ba308a",
            "76a8c96ad90443098b11643ee99e4283",
            "50b601ddc25f4656afee76c19501d23c",
            "efb9ff8320de4cc98a4c6a624407ab1f",
            "70cded49bc7440fa91d3d66220337ba1",
            "f31137aff53c41cbbef0ee08f1ea0ee0",
            "eddca80e1eeb40609ef8d31e0cb27967",
            "73edae8d2cb34165b77de20c3b383ba6",
            "03c87c801d604f91a8a937be15837862",
            "fd36870983c14626b8d4d5c1a3df5185",
            "02b45628efb84e54ab30fb97681edea9",
            "caec1c0ddde64275ab2a4b34b4cd5944",
            "7920b04fe7f7474782d136bed6e1485e",
            "8f8c0f3ac12945e99d847d8ede3861e6",
            "f32b5993dbe54005a10ad5bf9ba05127",
            "e005e94ba9924ecb925806339faa2aae",
            "7e5f0c8cecf446559c06b739e79ec4d9",
            "c519e63458f24e30854633c39e0b05f9"
          ]
        },
        "id": "1Xm3TniByHUF",
        "outputId": "18fe1017-8f1e-4794-aa7c-5c5117c7c629"
      },
      "execution_count": 26,
      "outputs": [
        {
          "output_type": "display_data",
          "data": {
            "text/plain": [
              "Map:   0%|          | 0/1317 [00:00<?, ? examples/s]"
            ],
            "application/vnd.jupyter.widget-view+json": {
              "version_major": 2,
              "version_minor": 0,
              "model_id": "11a833ff44b04942b4962dbd212e253a"
            }
          },
          "metadata": {}
        },
        {
          "output_type": "display_data",
          "data": {
            "text/plain": [
              "Map:   0%|          | 0/205 [00:00<?, ? examples/s]"
            ],
            "application/vnd.jupyter.widget-view+json": {
              "version_major": 2,
              "version_minor": 0,
              "model_id": "73edae8d2cb34165b77de20c3b383ba6"
            }
          },
          "metadata": {}
        }
      ]
    },
    {
      "cell_type": "code",
      "execution_count": 27,
      "metadata": {
        "colab": {
          "base_uri": "https://localhost:8080/"
        },
        "id": "ZPUrBXGZwCBm",
        "outputId": "57494078-5b9c-4225-8ac3-6f1f49fb1ea7"
      },
      "outputs": [
        {
          "output_type": "stream",
          "name": "stdout",
          "text": [
            "Train set size: 1317\n",
            "Validation set size: 205\n"
          ]
        }
      ],
      "source": [
        "# Print dataset sizes\n",
        "print(f\"Train set size: {train_dataset.num_rows}\")\n",
        "print(f\"Validation set size: {val_dataset.num_rows}\")\n"
      ]
    },
    {
      "cell_type": "markdown",
      "metadata": {
        "id": "Oq-cn_Mia-90"
      },
      "source": [
        "Since we are using T5 model, normalisation is not required as T5 uses subword tokenization and is also pretrained on massive dataset allowing the model learn words and different forms reducing need for normalization."
      ]
    },
    {
      "cell_type": "markdown",
      "metadata": {
        "id": "sd-lrBcHK7Me"
      },
      "source": [
        "# 4. Building the model"
      ]
    },
    {
      "cell_type": "markdown",
      "metadata": {
        "id": "RIqxMDz-EUEI"
      },
      "source": [
        "Learning rates: 3e-5, 5e-5, 1e-4, 3e-5, 3e-6, 1e-5.\n",
        "\n"
      ]
    },
    {
      "cell_type": "code",
      "execution_count": 30,
      "metadata": {
        "id": "LbuhaeBVwkc3",
        "colab": {
          "base_uri": "https://localhost:8080/"
        },
        "outputId": "fd5c20a9-6682-4b01-b0a8-ffa53c8d4b86"
      },
      "outputs": [
        {
          "output_type": "stream",
          "name": "stderr",
          "text": [
            "/usr/local/lib/python3.11/dist-packages/transformers/training_args.py:1575: FutureWarning: `evaluation_strategy` is deprecated and will be removed in version 4.46 of 🤗 Transformers. Use `eval_strategy` instead\n",
            "  warnings.warn(\n"
          ]
        }
      ],
      "source": [
        "training_args = TrainingArguments(\n",
        "    report_to=\"none\",\n",
        "    output_dir=\"./maternal_bot\",\n",
        "    evaluation_strategy=\"epoch\",\n",
        "    save_strategy=\"epoch\",\n",
        "    learning_rate=1e-4,\n",
        "    num_train_epochs=6,\n",
        "    per_device_train_batch_size=4,\n",
        "    per_device_eval_batch_size=4,\n",
        "    logging_strategy=\"steps\",\n",
        "    logging_steps=10,\n",
        "    weight_decay=3e-4,\n",
        "    load_best_model_at_end=True,\n",
        "    metric_for_best_model=\"loss\",\n",
        "    eval_steps=500,\n",
        "    save_total_limit=1,\n",
        "    fp16=True\n",
        ")"
      ]
    },
    {
      "cell_type": "code",
      "execution_count": null,
      "metadata": {
        "id": "xD_32sUbytLd"
      },
      "outputs": [],
      "source": [
        "# # Define DataCollator\n",
        "# from transformers import DataCollatorForSeq2Seq\n",
        "\n",
        "# data_collator = DataCollatorForSeq2Seq(tokenizer=tokenizer, model=model)"
      ]
    },
    {
      "cell_type": "code",
      "execution_count": 31,
      "metadata": {
        "id": "zyJeW5n2y98k",
        "colab": {
          "base_uri": "https://localhost:8080/",
          "height": 177,
          "referenced_widgets": [
            "40a32c50a0a14a4fa43a89bbd0ccde25",
            "64e868e80f43447681db99310d18dbc6",
            "92d384c0e8154e3888a5c6551b923b90",
            "9300e03942bb4e6e8fe3390090d589da",
            "00c549011cd24341acae57c801fee6c7",
            "9b59f57fa5ae477ab71517065979f29a",
            "c97a3d79598344cda87300d867d91868",
            "a84b5cce13654637b4d9407aae619551",
            "ae46796c36fa42118dedbc8b93a33141",
            "8684ae9776184d0fbe58f77a97adfd28",
            "619410c97bb842d28c07cb14b9fdbcca",
            "d90b1e07a1f543f1b7d7c644c94ec91e",
            "777cb6e75be84212bb0d75887fdf5285",
            "ad17b40be3ac4ee68bded710c024b231",
            "85ee5b7815aa40678cf2fd6866efa1fb",
            "65676059579e4648847ed3c328fc6f7e",
            "e724b467c22648ef909f3f72964e4f3c",
            "0f0e8269ec6d4c338c6471268c12338f",
            "968756cccc524da8a947e58a71705c5e",
            "a43bfbff98c341788fa6e87da2ddcf61",
            "378d4c171c4242debeafc73612aad65f",
            "01a0ea155b614ec4ba74089486e32191",
            "1b9a95f00b5a41508892a2f7438b10bb",
            "9dc0be4e10ec44ac9a8fed62cda6d756",
            "747c7511d45041b1876167eb67bc3fd5",
            "f153fecfd64d450280fc4be7ae1c79d2",
            "ed09c546a0fc40158277e43d7f03476e",
            "0921f79ac76749a2a0fd2753a1f1e608",
            "6dfdba0ac3724e0185577c6c4460f209",
            "790ec9ff12ec40f6a5c3c8956750930b",
            "9d24a6ae20764cf8bf1e17d2de352aa9",
            "aadda5d170dd40d0b3660bdadf21288b",
            "2794ed240dd244b6aa5f3c8676fb1288",
            "a41d2b44f7a04f53bf258d224552c24c",
            "0cdfc399b0fa40bfb7bc07b6368c8d32",
            "ce3a5426794046bfbeddb4ba1ec6a054",
            "21729a5d8aa2469d91c799895a3c8eb9",
            "7d271a79ee9e477eb11e78c54d79e58a",
            "f1ef8778c4914fb38ed5cac794d61960",
            "ad95fa0ca4e54520a46d1ba5e13d3646",
            "2c04dc617eb04ab082d1b4c59f4f3609",
            "164c9aea70ea42c99092dcb73e9fbb86",
            "bd630565826c4eb2bd04824b2805ee07",
            "b1bee121a50f48378ca8f2992b2ca943",
            "39e0919ca8ab4a87b9e9a64ab445dff7",
            "43016b4d515d49ceb888e8ebdbafaa2e",
            "d054701e2fa94c679b52737eeece303e",
            "77f52aad5758496d8206fe76ce316f65",
            "16e5ed89c3b54bfbaf17a64b2ca3aa2e",
            "9f8f5399c1cd41d6b361f060f3829efc",
            "d60beb3d025a4092a77fbf3bda4ac5c7",
            "6251ffef4c474eedbf95bdd9e572e50a",
            "806d84f2b358421fa3f089f7096acffd",
            "aca5662ea4764594bdb8bbbee55a0ca7",
            "1531a55ce2ee4c50b609cd59a4614ab3"
          ]
        },
        "outputId": "e48a93a1-8004-4b6f-cc10-0458e9c7421f"
      },
      "outputs": [
        {
          "output_type": "display_data",
          "data": {
            "text/plain": [
              "Downloading builder script:   0%|          | 0.00/5.94k [00:00<?, ?B/s]"
            ],
            "application/vnd.jupyter.widget-view+json": {
              "version_major": 2,
              "version_minor": 0,
              "model_id": "40a32c50a0a14a4fa43a89bbd0ccde25"
            }
          },
          "metadata": {}
        },
        {
          "output_type": "display_data",
          "data": {
            "text/plain": [
              "Downloading extra modules:   0%|          | 0.00/1.55k [00:00<?, ?B/s]"
            ],
            "application/vnd.jupyter.widget-view+json": {
              "version_major": 2,
              "version_minor": 0,
              "model_id": "d90b1e07a1f543f1b7d7c644c94ec91e"
            }
          },
          "metadata": {}
        },
        {
          "output_type": "display_data",
          "data": {
            "text/plain": [
              "Downloading extra modules:   0%|          | 0.00/3.34k [00:00<?, ?B/s]"
            ],
            "application/vnd.jupyter.widget-view+json": {
              "version_major": 2,
              "version_minor": 0,
              "model_id": "1b9a95f00b5a41508892a2f7438b10bb"
            }
          },
          "metadata": {}
        },
        {
          "output_type": "display_data",
          "data": {
            "text/plain": [
              "Downloading builder script:   0%|          | 0.00/6.79k [00:00<?, ?B/s]"
            ],
            "application/vnd.jupyter.widget-view+json": {
              "version_major": 2,
              "version_minor": 0,
              "model_id": "a41d2b44f7a04f53bf258d224552c24c"
            }
          },
          "metadata": {}
        },
        {
          "output_type": "display_data",
          "data": {
            "text/plain": [
              "Downloading builder script:   0%|          | 0.00/4.20k [00:00<?, ?B/s]"
            ],
            "application/vnd.jupyter.widget-view+json": {
              "version_major": 2,
              "version_minor": 0,
              "model_id": "39e0919ca8ab4a87b9e9a64ab445dff7"
            }
          },
          "metadata": {}
        }
      ],
      "source": [
        "# Load evaluation metrics\n",
        "bleu = load(\"bleu\")\n",
        "f1_metric = load(\"f1\")\n",
        "accuracy = load(\"accuracy\")\n"
      ]
    },
    {
      "cell_type": "code",
      "execution_count": 32,
      "metadata": {
        "id": "xZQ1GN1dAnpy"
      },
      "outputs": [],
      "source": [
        "# Preprocess logits before calculating metrics\n",
        "def preprocess_logits_for_metrics(logits, labels):\n",
        "  # Get first element of the logit\n",
        "  logits = logits[0]\n",
        "  # Apply softmax to convert logits to probabilities\n",
        "  probabilities = torch.nn.functional.softmax(logits, dim=-1)\n",
        "  return torch.max(probabilities, dim=-1)\n",
        "  # return torch.stack((max_values, max_indices), dim=-1)"
      ]
    },
    {
      "cell_type": "code",
      "execution_count": 33,
      "metadata": {
        "id": "iNtr9mr05VZC"
      },
      "outputs": [],
      "source": [
        "def calculate_perplexity(preds):\n",
        "  probs, ids = preds\n",
        "\n",
        "  # n is the sequence size\n",
        "  n = probs.shape[1]\n",
        "\n",
        "  # calculate the logs of probabilities\n",
        "  log_probs = np.log(probs)\n",
        "\n",
        "  # calculate the mean of all probabilities\n",
        "  avg_log_prob = probs.mean()\n",
        "\n",
        "  # calculate the mean perplexity of all training batches\n",
        "  perplexity = np.exp(-avg_log_prob)\n",
        "\n",
        "  return perplexity"
      ]
    },
    {
      "cell_type": "code",
      "execution_count": 34,
      "metadata": {
        "id": "0vFlk7o50vPw"
      },
      "outputs": [],
      "source": [
        "def compute_metrics(eval_pred):\n",
        "  # Get the predictions and labels from eval_pred\n",
        "  predictions, labels = eval_pred\n",
        "\n",
        "  # Get the word_ids and probabilities from predictions\n",
        "  probs, word_ids = predictions\n",
        "\n",
        "  # Flatten word_ids and labels\n",
        "  flat_word_ids = word_ids.flatten()\n",
        "  flat_labels = labels.flatten()\n",
        "\n",
        "  # Decode the word_ids into actual words\n",
        "  candidates = tokenizer.batch_decode(word_ids, skip_special_tokens=True)\n",
        "  references = tokenizer.batch_decode(labels, skip_special_tokens=True)\n",
        "\n",
        "  # Each training example can have multiple references, so references is a 2D array\n",
        "  references = [[l] for l in references]\n",
        "\n",
        "  # Compute BLEU\n",
        "  bleu_score = bleu.compute(predictions=candidates, references=references)[\"bleu\"]\n",
        "\n",
        "  # Compute Accuracy\n",
        "  accuracy_score = accuracy.compute(predictions=flat_word_ids, references=flat_labels)[\"accuracy\"]\n",
        "\n",
        "  # Compute F1 Score (micro)\n",
        "  f1_score = f1_metric.compute(predictions=flat_word_ids, references=flat_labels, average=\"micro\")[\"f1\"]\n",
        "\n",
        "  # Compute Perplexity score manually since the perplexity.compute function only supports\n",
        "  # causal language models and not encode-decoder models like T5\n",
        "  perplexity_score = calculate_perplexity(predictions)\n",
        "\n",
        "  return {\n",
        "      \"accuracy\": accuracy_score,\n",
        "      \"bleu\": bleu_score,\n",
        "      \"f1\": f1_score,\n",
        "      \"perplexity\": perplexity_score\n",
        "  }\n"
      ]
    },
    {
      "cell_type": "code",
      "execution_count": 35,
      "metadata": {
        "colab": {
          "base_uri": "https://localhost:8080/"
        },
        "id": "z1f3ofOv1Ut2",
        "outputId": "dc20177a-5f73-4c82-ee9a-0896e0c54694"
      },
      "outputs": [
        {
          "output_type": "stream",
          "name": "stderr",
          "text": [
            "<ipython-input-35-1f48ab3bf770>:3: FutureWarning: `tokenizer` is deprecated and will be removed in version 5.0.0 for `Trainer.__init__`. Use `processing_class` instead.\n",
            "  trainer = Trainer (\n"
          ]
        }
      ],
      "source": [
        "from transformers import EarlyStoppingCallback\n",
        "\n",
        "trainer = Trainer (\n",
        "    model=model,\n",
        "    args=training_args,\n",
        "    train_dataset=train_dataset,\n",
        "    eval_dataset=val_dataset,\n",
        "    tokenizer=tokenizer,\n",
        "    compute_metrics=compute_metrics,\n",
        "    preprocess_logits_for_metrics=preprocess_logits_for_metrics,\n",
        "    #callbacks=[EarlyStoppingCallback(early_stopping_patience=3)]\n",
        ")"
      ]
    },
    {
      "cell_type": "code",
      "execution_count": 36,
      "metadata": {
        "colab": {
          "base_uri": "https://localhost:8080/",
          "height": 390
        },
        "id": "BSS9_3On1gW7",
        "outputId": "e33cc316-b4e6-4b08-bb39-7ae642eadf00"
      },
      "outputs": [
        {
          "output_type": "stream",
          "name": "stderr",
          "text": [
            "Passing a tuple of `past_key_values` is deprecated and will be removed in Transformers v4.48.0. You should pass an instance of `EncoderDecoderCache` instead, e.g. `past_key_values=EncoderDecoderCache.from_legacy_cache(past_key_values)`.\n"
          ]
        },
        {
          "output_type": "display_data",
          "data": {
            "text/plain": [
              "<IPython.core.display.HTML object>"
            ],
            "text/html": [
              "\n",
              "    <div>\n",
              "      \n",
              "      <progress value='1980' max='1980' style='width:300px; height:20px; vertical-align: middle;'></progress>\n",
              "      [1980/1980 12:23, Epoch 6/6]\n",
              "    </div>\n",
              "    <table border=\"1\" class=\"dataframe\">\n",
              "  <thead>\n",
              " <tr style=\"text-align: left;\">\n",
              "      <th>Epoch</th>\n",
              "      <th>Training Loss</th>\n",
              "      <th>Validation Loss</th>\n",
              "      <th>Accuracy</th>\n",
              "      <th>Bleu</th>\n",
              "      <th>F1</th>\n",
              "      <th>Perplexity</th>\n",
              "    </tr>\n",
              "  </thead>\n",
              "  <tbody>\n",
              "    <tr>\n",
              "      <td>1</td>\n",
              "      <td>0.441500</td>\n",
              "      <td>0.381344</td>\n",
              "      <td>0.917264</td>\n",
              "      <td>0.122384</td>\n",
              "      <td>0.917264</td>\n",
              "      <td>0.397891</td>\n",
              "    </tr>\n",
              "    <tr>\n",
              "      <td>2</td>\n",
              "      <td>0.310500</td>\n",
              "      <td>0.370747</td>\n",
              "      <td>0.919912</td>\n",
              "      <td>0.135976</td>\n",
              "      <td>0.919912</td>\n",
              "      <td>0.393910</td>\n",
              "    </tr>\n",
              "    <tr>\n",
              "      <td>3</td>\n",
              "      <td>0.348500</td>\n",
              "      <td>0.366281</td>\n",
              "      <td>0.921037</td>\n",
              "      <td>0.144078</td>\n",
              "      <td>0.921037</td>\n",
              "      <td>0.392327</td>\n",
              "    </tr>\n",
              "    <tr>\n",
              "      <td>4</td>\n",
              "      <td>0.311600</td>\n",
              "      <td>0.368665</td>\n",
              "      <td>0.922370</td>\n",
              "      <td>0.154075</td>\n",
              "      <td>0.922370</td>\n",
              "      <td>0.390799</td>\n",
              "    </tr>\n",
              "    <tr>\n",
              "      <td>5</td>\n",
              "      <td>0.239000</td>\n",
              "      <td>0.370795</td>\n",
              "      <td>0.922313</td>\n",
              "      <td>0.156996</td>\n",
              "      <td>0.922313</td>\n",
              "      <td>0.390003</td>\n",
              "    </tr>\n",
              "    <tr>\n",
              "      <td>6</td>\n",
              "      <td>0.233900</td>\n",
              "      <td>0.373345</td>\n",
              "      <td>0.922142</td>\n",
              "      <td>0.158804</td>\n",
              "      <td>0.922142</td>\n",
              "      <td>0.389452</td>\n",
              "    </tr>\n",
              "  </tbody>\n",
              "</table><p>"
            ]
          },
          "metadata": {}
        },
        {
          "output_type": "stream",
          "name": "stderr",
          "text": [
            "There were missing keys in the checkpoint model loaded: ['encoder.embed_tokens.weight', 'decoder.embed_tokens.weight', 'lm_head.weight'].\n"
          ]
        },
        {
          "output_type": "execute_result",
          "data": {
            "text/plain": [
              "TrainOutput(global_step=1980, training_loss=0.37330904151454114, metrics={'train_runtime': 744.4465, 'train_samples_per_second': 10.615, 'train_steps_per_second': 2.66, 'total_flos': 422928391219200.0, 'train_loss': 0.37330904151454114, 'epoch': 6.0})"
            ]
          },
          "metadata": {},
          "execution_count": 36
        }
      ],
      "source": [
        "trainer.train()"
      ]
    },
    {
      "cell_type": "markdown",
      "metadata": {
        "id": "a1FTx6YgLDP-"
      },
      "source": [
        "# 5. Evaluating the model\n",
        "\n",
        "1.  **BLEU Score:** A higher bleu score indicates a better performing model.\n",
        "\n",
        "2.   **PerplexitY:** A low perplexity score indicates better language modeling and understanding.\n",
        "\n",
        "4. **Accuracy**\n",
        "\n",
        "5. **Loss**\n"
      ]
    },
    {
      "cell_type": "markdown",
      "metadata": {
        "id": "R0A55w9TKXho"
      },
      "source": [
        "\n",
        "\n",
        "```\n",
        "compares the generated text (predictions) against the expected\n",
        "or ground truth text (references) and returns a BLEU score, which is a\n",
        "common metric for evaluating text generation quality. Higher BLEU scores\n",
        "generally indicate better text quality and closer alignment with the\n",
        "expected outputs.\n",
        "```\n",
        "\n"
      ]
    },
    {
      "cell_type": "code",
      "execution_count": 37,
      "metadata": {
        "id": "TBtsOIIPBt8X",
        "colab": {
          "base_uri": "https://localhost:8080/",
          "height": 75
        },
        "outputId": "a1265617-8dad-4d61-84f8-30c85325acc2"
      },
      "outputs": [
        {
          "output_type": "display_data",
          "data": {
            "text/plain": [
              "<IPython.core.display.HTML object>"
            ],
            "text/html": [
              "\n",
              "    <div>\n",
              "      \n",
              "      <progress value='52' max='52' style='width:300px; height:20px; vertical-align: middle;'></progress>\n",
              "      [52/52 00:03]\n",
              "    </div>\n",
              "    "
            ]
          },
          "metadata": {}
        },
        {
          "output_type": "stream",
          "name": "stdout",
          "text": [
            "Evaluation results: {'eval_loss': 0.36628085374832153, 'eval_accuracy': 0.9210365853658536, 'eval_bleu': 0.14407771287977986, 'eval_f1': 0.9210365853658536, 'eval_perplexity': 0.3923273980617523, 'eval_runtime': 9.2817, 'eval_samples_per_second': 22.086, 'eval_steps_per_second': 5.602, 'epoch': 6.0}\n"
          ]
        }
      ],
      "source": [
        "eval_results = trainer.evaluate()\n",
        "print(f\"Evaluation results: {eval_results}\")"
      ]
    },
    {
      "cell_type": "code",
      "source": [
        "# Save model and tokenizer\n",
        "model.save_pretrained(\"./t5_maternal_bot1\")\n",
        "tokenizer.save_pretrained(\"./t5_maternal_bot1\")"
      ],
      "metadata": {
        "id": "J90IwnWRmKkg",
        "colab": {
          "base_uri": "https://localhost:8080/"
        },
        "outputId": "b024872d-9e8a-4e1e-d288-755ffefea979"
      },
      "execution_count": 38,
      "outputs": [
        {
          "output_type": "execute_result",
          "data": {
            "text/plain": [
              "('./t5_maternal_bot1/tokenizer_config.json',\n",
              " './t5_maternal_bot1/special_tokens_map.json',\n",
              " './t5_maternal_bot1/spiece.model',\n",
              " './t5_maternal_bot1/added_tokens.json')"
            ]
          },
          "metadata": {},
          "execution_count": 38
        }
      ]
    },
    {
      "cell_type": "code",
      "execution_count": 60,
      "metadata": {
        "id": "Pm8_RdDSCYFk"
      },
      "outputs": [],
      "source": [
        "def generate_response(question):\n",
        "    \"\"\"\n",
        "    Generates responses from the chatbot for a given question\n",
        "    \"\"\"\n",
        "    # Handle empty input\n",
        "    if not question.strip():\n",
        "        return \"Please enter a valid question.\"\n",
        "\n",
        "    # limits maternal related questions\n",
        "    maternal_keywords = [\"pregnancy\", \"baby\", \"birth\", \"mother\", \"preterm\",\n",
        "                         'breast', 'miscarriage', 'pregnant', 'fertility',\n",
        "                         'fertile', 'abortion', 'malnourished', 'ovulation',\n",
        "                         'menstrual cycle', 'menstruation', 'stillbirth',\n",
        "                         \"antenatal\", 'postnatal', 'doctor', 'nurse', 'babycare',\n",
        "                         \"labor\", \"postpartum\", \"maternal\", \"neonatal\"]\n",
        "    if not any(keyword in question.lower() for keyword in maternal_keywords):\n",
        "        return \"Sorry, I can only answer maternal health-related questions.\"\n",
        "\n",
        "    # format the input\n",
        "    input_text = f\"question: {question}\"\n",
        "\n",
        "    # Encodes the input text using tokenizer, specifying PyTorch tensors\n",
        "    input_ids = tokenizer.encode(input_text, return_tensors=\"pt\")\n",
        "\n",
        "    # Move input_ids to the same device as the model\n",
        "    # If using GPU, use: device = torch.device(\"cuda\") if torch.cuda.is_available() else torch.device(\"cpu\")\n",
        "    device = torch.device(\"cuda\") if torch.cuda.is_available() else torch.device(\"cpu\")\n",
        "    input_ids = input_ids.to(device)\n",
        "    model.to(device)\n",
        "\n",
        "    # Generate output IDs using model\n",
        "    output_ids = model.generate(\n",
        "        input_ids,\n",
        "        max_new_tokens=120,\n",
        "        do_sample=True,\n",
        "        top_k=45,\n",
        "        temperature=0.9, # controls randomness of generated text\n",
        "        top_p=0.8, # Controls diversity of generated text\n",
        "        repetition_penalty=1.3, # Discourages model from repeating same words\n",
        "\n",
        "        )\n",
        "\n",
        "    # Decodes output IDs back to text\n",
        "    response = tokenizer.decode(output_ids[0], skip_special_tokens=True)\n",
        "\n",
        "    # Condition to handle empty generated responses\n",
        "    # If the generated response is empty, replace it with a message\n",
        "    if not response:\n",
        "        response = \"I am unable to answer that question.\"\n",
        "    return response"
      ]
    },
    {
      "cell_type": "code",
      "execution_count": 70,
      "metadata": {
        "id": "vNpm4jRPB5Sm",
        "colab": {
          "base_uri": "https://localhost:8080/"
        },
        "outputId": "9cd683b2-4b89-4c0e-e2ba-47245a5170b8"
      },
      "outputs": [
        {
          "output_type": "stream",
          "name": "stdout",
          "text": [
            "Chatbot: Hello! Ask me anything.\n",
            "You: What is the definition of miscarriage?\n",
            "Chatbot: miscarriage is the loss of a baby by a faulty pregnancy or by a defective pregnancy.\n",
            "You: Why is breast milk good food for the baby?\n",
            "Chatbot: Breast milk is good for the baby due to its low calorie content and excellent protein levels.\n",
            "You: Can I have sex when pregnant?\n",
            "Chatbot: Yes, sex is legal in pregnancy\n",
            "You: How do I manage constipation when pregnant?\n",
            "Chatbot: Using a bowel spray, a bowel rinse, and a swollen belly button are the best ways to manage constipation\n",
            "You: What is the importance of rest and sleep after child birth?\n",
            "Chatbot: Rest and sleep after childbirth are extremely important for preventing infections, maintaining good health, and maintaining a healthy weight.\n",
            "You: Why is hand washing good for mothers?\n",
            "Chatbot: Hand washing helps prevent colds, flu, and bacterial infections.\n",
            "You: Hello?\n",
            "Chatbot: Sorry, I can only answer maternal health-related questions.\n",
            "You: Is using a tampon safe after birth?\n",
            "Chatbot: Use of a tampon is safe after birth\n",
            "You: exit\n",
            "Chatbot: Goodbye!\n"
          ]
        }
      ],
      "source": [
        "print(\"Chatbot: Hello! Ask me anything.\")\n",
        "\n",
        "while True:\n",
        "    # Get user input\n",
        "    user_input = input(\"You: \")\n",
        "\n",
        "    # Exit condition\n",
        "    if user_input.lower() in ['quit', 'exit', 'bye']:\n",
        "        print(\"Chatbot: Goodbye!\")\n",
        "        break\n",
        "\n",
        "    # Get the chatbot response\n",
        "    response = generate_response(user_input)\n",
        "\n",
        "    # Print the response\n",
        "    print(f\"Chatbot: {response}\")\n"
      ]
    },
    {
      "cell_type": "code",
      "source": [
        "!zip -r t5_maternal_bot1.zip t5_maternal_bot1\n",
        "from google.colab import files\n",
        "files.download(\"t5_maternal_bot1.zip\")"
      ],
      "metadata": {
        "colab": {
          "base_uri": "https://localhost:8080/",
          "height": 159
        },
        "id": "EFq70-gyqeNQ",
        "outputId": "dbad514d-d920-4a46-a444-c560c98df41a"
      },
      "execution_count": 39,
      "outputs": [
        {
          "output_type": "stream",
          "name": "stdout",
          "text": [
            "  adding: t5_maternal_bot1/ (stored 0%)\n",
            "  adding: t5_maternal_bot1/tokenizer_config.json (deflated 94%)\n",
            "  adding: t5_maternal_bot1/generation_config.json (deflated 29%)\n",
            "  adding: t5_maternal_bot1/config.json (deflated 62%)\n",
            "  adding: t5_maternal_bot1/added_tokens.json (deflated 83%)\n",
            "  adding: t5_maternal_bot1/model.safetensors (deflated 8%)\n",
            "  adding: t5_maternal_bot1/special_tokens_map.json (deflated 85%)\n",
            "  adding: t5_maternal_bot1/spiece.model (deflated 48%)\n"
          ]
        },
        {
          "output_type": "display_data",
          "data": {
            "text/plain": [
              "<IPython.core.display.Javascript object>"
            ],
            "application/javascript": [
              "\n",
              "    async function download(id, filename, size) {\n",
              "      if (!google.colab.kernel.accessAllowed) {\n",
              "        return;\n",
              "      }\n",
              "      const div = document.createElement('div');\n",
              "      const label = document.createElement('label');\n",
              "      label.textContent = `Downloading \"${filename}\": `;\n",
              "      div.appendChild(label);\n",
              "      const progress = document.createElement('progress');\n",
              "      progress.max = size;\n",
              "      div.appendChild(progress);\n",
              "      document.body.appendChild(div);\n",
              "\n",
              "      const buffers = [];\n",
              "      let downloaded = 0;\n",
              "\n",
              "      const channel = await google.colab.kernel.comms.open(id);\n",
              "      // Send a message to notify the kernel that we're ready.\n",
              "      channel.send({})\n",
              "\n",
              "      for await (const message of channel.messages) {\n",
              "        // Send a message to notify the kernel that we're ready.\n",
              "        channel.send({})\n",
              "        if (message.buffers) {\n",
              "          for (const buffer of message.buffers) {\n",
              "            buffers.push(buffer);\n",
              "            downloaded += buffer.byteLength;\n",
              "            progress.value = downloaded;\n",
              "          }\n",
              "        }\n",
              "      }\n",
              "      const blob = new Blob(buffers, {type: 'application/binary'});\n",
              "      const a = document.createElement('a');\n",
              "      a.href = window.URL.createObjectURL(blob);\n",
              "      a.download = filename;\n",
              "      div.appendChild(a);\n",
              "      a.click();\n",
              "      div.remove();\n",
              "    }\n",
              "  "
            ]
          },
          "metadata": {}
        },
        {
          "output_type": "display_data",
          "data": {
            "text/plain": [
              "<IPython.core.display.Javascript object>"
            ],
            "application/javascript": [
              "download(\"download_6be744db-bf5f-46f1-aa5c-2184044ba007\", \"t5_maternal_bot1.zip\", 820673115)"
            ]
          },
          "metadata": {}
        }
      ]
    },
    {
      "cell_type": "code",
      "source": [
        "# Evaluate Model\n",
        "\n",
        "# Get predictions for all questions in test set\n",
        "predictions = [generate_response(q) for q in val_dataset[\"question\"]]\n",
        "\n",
        "# Get correct answers from the set\n",
        "references = val_dataset[\"answer\"]\n",
        "\n",
        "# Print some examples for comparison\n",
        "for i in range(5):  # Print 10 examples\n",
        "    print(f\"Question: {val_dataset['question'][i]}\")\n",
        "    print(f\"Predicted Answer: {predictions[i]}\")\n",
        "    print(f\"Expected Answer: {references[i]}\")\n",
        "    print(\"-\" * 20)\n",
        "\n"
      ],
      "metadata": {
        "id": "X1h49dq2h3SU"
      },
      "execution_count": null,
      "outputs": []
    }
  ],
  "metadata": {
    "colab": {
      "provenance": [],
      "gpuType": "T4"
    },
    "kernelspec": {
      "display_name": "Python 3",
      "name": "python3"
    },
    "language_info": {
      "name": "python"
    },
    "widgets": {
      "application/vnd.jupyter.widget-state+json": {
        "11a833ff44b04942b4962dbd212e253a": {
          "model_module": "@jupyter-widgets/controls",
          "model_name": "HBoxModel",
          "model_module_version": "1.5.0",
          "state": {
            "_dom_classes": [],
            "_model_module": "@jupyter-widgets/controls",
            "_model_module_version": "1.5.0",
            "_model_name": "HBoxModel",
            "_view_count": null,
            "_view_module": "@jupyter-widgets/controls",
            "_view_module_version": "1.5.0",
            "_view_name": "HBoxView",
            "box_style": "",
            "children": [
              "IPY_MODEL_73f1fd2bdbff417abd8fe9e63406622b",
              "IPY_MODEL_5a027d979b7f46a89658e53483285532",
              "IPY_MODEL_4b8416cfa4cf49a2ad33f8736b547cb0"
            ],
            "layout": "IPY_MODEL_1f9122d4d5ba4f10ba2929f150ba308a"
          }
        },
        "73f1fd2bdbff417abd8fe9e63406622b": {
          "model_module": "@jupyter-widgets/controls",
          "model_name": "HTMLModel",
          "model_module_version": "1.5.0",
          "state": {
            "_dom_classes": [],
            "_model_module": "@jupyter-widgets/controls",
            "_model_module_version": "1.5.0",
            "_model_name": "HTMLModel",
            "_view_count": null,
            "_view_module": "@jupyter-widgets/controls",
            "_view_module_version": "1.5.0",
            "_view_name": "HTMLView",
            "description": "",
            "description_tooltip": null,
            "layout": "IPY_MODEL_76a8c96ad90443098b11643ee99e4283",
            "placeholder": "​",
            "style": "IPY_MODEL_50b601ddc25f4656afee76c19501d23c",
            "value": "Map: 100%"
          }
        },
        "5a027d979b7f46a89658e53483285532": {
          "model_module": "@jupyter-widgets/controls",
          "model_name": "FloatProgressModel",
          "model_module_version": "1.5.0",
          "state": {
            "_dom_classes": [],
            "_model_module": "@jupyter-widgets/controls",
            "_model_module_version": "1.5.0",
            "_model_name": "FloatProgressModel",
            "_view_count": null,
            "_view_module": "@jupyter-widgets/controls",
            "_view_module_version": "1.5.0",
            "_view_name": "ProgressView",
            "bar_style": "success",
            "description": "",
            "description_tooltip": null,
            "layout": "IPY_MODEL_efb9ff8320de4cc98a4c6a624407ab1f",
            "max": 1317,
            "min": 0,
            "orientation": "horizontal",
            "style": "IPY_MODEL_70cded49bc7440fa91d3d66220337ba1",
            "value": 1317
          }
        },
        "4b8416cfa4cf49a2ad33f8736b547cb0": {
          "model_module": "@jupyter-widgets/controls",
          "model_name": "HTMLModel",
          "model_module_version": "1.5.0",
          "state": {
            "_dom_classes": [],
            "_model_module": "@jupyter-widgets/controls",
            "_model_module_version": "1.5.0",
            "_model_name": "HTMLModel",
            "_view_count": null,
            "_view_module": "@jupyter-widgets/controls",
            "_view_module_version": "1.5.0",
            "_view_name": "HTMLView",
            "description": "",
            "description_tooltip": null,
            "layout": "IPY_MODEL_f31137aff53c41cbbef0ee08f1ea0ee0",
            "placeholder": "​",
            "style": "IPY_MODEL_eddca80e1eeb40609ef8d31e0cb27967",
            "value": " 1317/1317 [00:00&lt;00:00, 2642.19 examples/s]"
          }
        },
        "1f9122d4d5ba4f10ba2929f150ba308a": {
          "model_module": "@jupyter-widgets/base",
          "model_name": "LayoutModel",
          "model_module_version": "1.2.0",
          "state": {
            "_model_module": "@jupyter-widgets/base",
            "_model_module_version": "1.2.0",
            "_model_name": "LayoutModel",
            "_view_count": null,
            "_view_module": "@jupyter-widgets/base",
            "_view_module_version": "1.2.0",
            "_view_name": "LayoutView",
            "align_content": null,
            "align_items": null,
            "align_self": null,
            "border": null,
            "bottom": null,
            "display": null,
            "flex": null,
            "flex_flow": null,
            "grid_area": null,
            "grid_auto_columns": null,
            "grid_auto_flow": null,
            "grid_auto_rows": null,
            "grid_column": null,
            "grid_gap": null,
            "grid_row": null,
            "grid_template_areas": null,
            "grid_template_columns": null,
            "grid_template_rows": null,
            "height": null,
            "justify_content": null,
            "justify_items": null,
            "left": null,
            "margin": null,
            "max_height": null,
            "max_width": null,
            "min_height": null,
            "min_width": null,
            "object_fit": null,
            "object_position": null,
            "order": null,
            "overflow": null,
            "overflow_x": null,
            "overflow_y": null,
            "padding": null,
            "right": null,
            "top": null,
            "visibility": null,
            "width": null
          }
        },
        "76a8c96ad90443098b11643ee99e4283": {
          "model_module": "@jupyter-widgets/base",
          "model_name": "LayoutModel",
          "model_module_version": "1.2.0",
          "state": {
            "_model_module": "@jupyter-widgets/base",
            "_model_module_version": "1.2.0",
            "_model_name": "LayoutModel",
            "_view_count": null,
            "_view_module": "@jupyter-widgets/base",
            "_view_module_version": "1.2.0",
            "_view_name": "LayoutView",
            "align_content": null,
            "align_items": null,
            "align_self": null,
            "border": null,
            "bottom": null,
            "display": null,
            "flex": null,
            "flex_flow": null,
            "grid_area": null,
            "grid_auto_columns": null,
            "grid_auto_flow": null,
            "grid_auto_rows": null,
            "grid_column": null,
            "grid_gap": null,
            "grid_row": null,
            "grid_template_areas": null,
            "grid_template_columns": null,
            "grid_template_rows": null,
            "height": null,
            "justify_content": null,
            "justify_items": null,
            "left": null,
            "margin": null,
            "max_height": null,
            "max_width": null,
            "min_height": null,
            "min_width": null,
            "object_fit": null,
            "object_position": null,
            "order": null,
            "overflow": null,
            "overflow_x": null,
            "overflow_y": null,
            "padding": null,
            "right": null,
            "top": null,
            "visibility": null,
            "width": null
          }
        },
        "50b601ddc25f4656afee76c19501d23c": {
          "model_module": "@jupyter-widgets/controls",
          "model_name": "DescriptionStyleModel",
          "model_module_version": "1.5.0",
          "state": {
            "_model_module": "@jupyter-widgets/controls",
            "_model_module_version": "1.5.0",
            "_model_name": "DescriptionStyleModel",
            "_view_count": null,
            "_view_module": "@jupyter-widgets/base",
            "_view_module_version": "1.2.0",
            "_view_name": "StyleView",
            "description_width": ""
          }
        },
        "efb9ff8320de4cc98a4c6a624407ab1f": {
          "model_module": "@jupyter-widgets/base",
          "model_name": "LayoutModel",
          "model_module_version": "1.2.0",
          "state": {
            "_model_module": "@jupyter-widgets/base",
            "_model_module_version": "1.2.0",
            "_model_name": "LayoutModel",
            "_view_count": null,
            "_view_module": "@jupyter-widgets/base",
            "_view_module_version": "1.2.0",
            "_view_name": "LayoutView",
            "align_content": null,
            "align_items": null,
            "align_self": null,
            "border": null,
            "bottom": null,
            "display": null,
            "flex": null,
            "flex_flow": null,
            "grid_area": null,
            "grid_auto_columns": null,
            "grid_auto_flow": null,
            "grid_auto_rows": null,
            "grid_column": null,
            "grid_gap": null,
            "grid_row": null,
            "grid_template_areas": null,
            "grid_template_columns": null,
            "grid_template_rows": null,
            "height": null,
            "justify_content": null,
            "justify_items": null,
            "left": null,
            "margin": null,
            "max_height": null,
            "max_width": null,
            "min_height": null,
            "min_width": null,
            "object_fit": null,
            "object_position": null,
            "order": null,
            "overflow": null,
            "overflow_x": null,
            "overflow_y": null,
            "padding": null,
            "right": null,
            "top": null,
            "visibility": null,
            "width": null
          }
        },
        "70cded49bc7440fa91d3d66220337ba1": {
          "model_module": "@jupyter-widgets/controls",
          "model_name": "ProgressStyleModel",
          "model_module_version": "1.5.0",
          "state": {
            "_model_module": "@jupyter-widgets/controls",
            "_model_module_version": "1.5.0",
            "_model_name": "ProgressStyleModel",
            "_view_count": null,
            "_view_module": "@jupyter-widgets/base",
            "_view_module_version": "1.2.0",
            "_view_name": "StyleView",
            "bar_color": null,
            "description_width": ""
          }
        },
        "f31137aff53c41cbbef0ee08f1ea0ee0": {
          "model_module": "@jupyter-widgets/base",
          "model_name": "LayoutModel",
          "model_module_version": "1.2.0",
          "state": {
            "_model_module": "@jupyter-widgets/base",
            "_model_module_version": "1.2.0",
            "_model_name": "LayoutModel",
            "_view_count": null,
            "_view_module": "@jupyter-widgets/base",
            "_view_module_version": "1.2.0",
            "_view_name": "LayoutView",
            "align_content": null,
            "align_items": null,
            "align_self": null,
            "border": null,
            "bottom": null,
            "display": null,
            "flex": null,
            "flex_flow": null,
            "grid_area": null,
            "grid_auto_columns": null,
            "grid_auto_flow": null,
            "grid_auto_rows": null,
            "grid_column": null,
            "grid_gap": null,
            "grid_row": null,
            "grid_template_areas": null,
            "grid_template_columns": null,
            "grid_template_rows": null,
            "height": null,
            "justify_content": null,
            "justify_items": null,
            "left": null,
            "margin": null,
            "max_height": null,
            "max_width": null,
            "min_height": null,
            "min_width": null,
            "object_fit": null,
            "object_position": null,
            "order": null,
            "overflow": null,
            "overflow_x": null,
            "overflow_y": null,
            "padding": null,
            "right": null,
            "top": null,
            "visibility": null,
            "width": null
          }
        },
        "eddca80e1eeb40609ef8d31e0cb27967": {
          "model_module": "@jupyter-widgets/controls",
          "model_name": "DescriptionStyleModel",
          "model_module_version": "1.5.0",
          "state": {
            "_model_module": "@jupyter-widgets/controls",
            "_model_module_version": "1.5.0",
            "_model_name": "DescriptionStyleModel",
            "_view_count": null,
            "_view_module": "@jupyter-widgets/base",
            "_view_module_version": "1.2.0",
            "_view_name": "StyleView",
            "description_width": ""
          }
        },
        "73edae8d2cb34165b77de20c3b383ba6": {
          "model_module": "@jupyter-widgets/controls",
          "model_name": "HBoxModel",
          "model_module_version": "1.5.0",
          "state": {
            "_dom_classes": [],
            "_model_module": "@jupyter-widgets/controls",
            "_model_module_version": "1.5.0",
            "_model_name": "HBoxModel",
            "_view_count": null,
            "_view_module": "@jupyter-widgets/controls",
            "_view_module_version": "1.5.0",
            "_view_name": "HBoxView",
            "box_style": "",
            "children": [
              "IPY_MODEL_03c87c801d604f91a8a937be15837862",
              "IPY_MODEL_fd36870983c14626b8d4d5c1a3df5185",
              "IPY_MODEL_02b45628efb84e54ab30fb97681edea9"
            ],
            "layout": "IPY_MODEL_caec1c0ddde64275ab2a4b34b4cd5944"
          }
        },
        "03c87c801d604f91a8a937be15837862": {
          "model_module": "@jupyter-widgets/controls",
          "model_name": "HTMLModel",
          "model_module_version": "1.5.0",
          "state": {
            "_dom_classes": [],
            "_model_module": "@jupyter-widgets/controls",
            "_model_module_version": "1.5.0",
            "_model_name": "HTMLModel",
            "_view_count": null,
            "_view_module": "@jupyter-widgets/controls",
            "_view_module_version": "1.5.0",
            "_view_name": "HTMLView",
            "description": "",
            "description_tooltip": null,
            "layout": "IPY_MODEL_7920b04fe7f7474782d136bed6e1485e",
            "placeholder": "​",
            "style": "IPY_MODEL_8f8c0f3ac12945e99d847d8ede3861e6",
            "value": "Map: 100%"
          }
        },
        "fd36870983c14626b8d4d5c1a3df5185": {
          "model_module": "@jupyter-widgets/controls",
          "model_name": "FloatProgressModel",
          "model_module_version": "1.5.0",
          "state": {
            "_dom_classes": [],
            "_model_module": "@jupyter-widgets/controls",
            "_model_module_version": "1.5.0",
            "_model_name": "FloatProgressModel",
            "_view_count": null,
            "_view_module": "@jupyter-widgets/controls",
            "_view_module_version": "1.5.0",
            "_view_name": "ProgressView",
            "bar_style": "success",
            "description": "",
            "description_tooltip": null,
            "layout": "IPY_MODEL_f32b5993dbe54005a10ad5bf9ba05127",
            "max": 205,
            "min": 0,
            "orientation": "horizontal",
            "style": "IPY_MODEL_e005e94ba9924ecb925806339faa2aae",
            "value": 205
          }
        },
        "02b45628efb84e54ab30fb97681edea9": {
          "model_module": "@jupyter-widgets/controls",
          "model_name": "HTMLModel",
          "model_module_version": "1.5.0",
          "state": {
            "_dom_classes": [],
            "_model_module": "@jupyter-widgets/controls",
            "_model_module_version": "1.5.0",
            "_model_name": "HTMLModel",
            "_view_count": null,
            "_view_module": "@jupyter-widgets/controls",
            "_view_module_version": "1.5.0",
            "_view_name": "HTMLView",
            "description": "",
            "description_tooltip": null,
            "layout": "IPY_MODEL_7e5f0c8cecf446559c06b739e79ec4d9",
            "placeholder": "​",
            "style": "IPY_MODEL_c519e63458f24e30854633c39e0b05f9",
            "value": " 205/205 [00:00&lt;00:00, 1942.94 examples/s]"
          }
        },
        "caec1c0ddde64275ab2a4b34b4cd5944": {
          "model_module": "@jupyter-widgets/base",
          "model_name": "LayoutModel",
          "model_module_version": "1.2.0",
          "state": {
            "_model_module": "@jupyter-widgets/base",
            "_model_module_version": "1.2.0",
            "_model_name": "LayoutModel",
            "_view_count": null,
            "_view_module": "@jupyter-widgets/base",
            "_view_module_version": "1.2.0",
            "_view_name": "LayoutView",
            "align_content": null,
            "align_items": null,
            "align_self": null,
            "border": null,
            "bottom": null,
            "display": null,
            "flex": null,
            "flex_flow": null,
            "grid_area": null,
            "grid_auto_columns": null,
            "grid_auto_flow": null,
            "grid_auto_rows": null,
            "grid_column": null,
            "grid_gap": null,
            "grid_row": null,
            "grid_template_areas": null,
            "grid_template_columns": null,
            "grid_template_rows": null,
            "height": null,
            "justify_content": null,
            "justify_items": null,
            "left": null,
            "margin": null,
            "max_height": null,
            "max_width": null,
            "min_height": null,
            "min_width": null,
            "object_fit": null,
            "object_position": null,
            "order": null,
            "overflow": null,
            "overflow_x": null,
            "overflow_y": null,
            "padding": null,
            "right": null,
            "top": null,
            "visibility": null,
            "width": null
          }
        },
        "7920b04fe7f7474782d136bed6e1485e": {
          "model_module": "@jupyter-widgets/base",
          "model_name": "LayoutModel",
          "model_module_version": "1.2.0",
          "state": {
            "_model_module": "@jupyter-widgets/base",
            "_model_module_version": "1.2.0",
            "_model_name": "LayoutModel",
            "_view_count": null,
            "_view_module": "@jupyter-widgets/base",
            "_view_module_version": "1.2.0",
            "_view_name": "LayoutView",
            "align_content": null,
            "align_items": null,
            "align_self": null,
            "border": null,
            "bottom": null,
            "display": null,
            "flex": null,
            "flex_flow": null,
            "grid_area": null,
            "grid_auto_columns": null,
            "grid_auto_flow": null,
            "grid_auto_rows": null,
            "grid_column": null,
            "grid_gap": null,
            "grid_row": null,
            "grid_template_areas": null,
            "grid_template_columns": null,
            "grid_template_rows": null,
            "height": null,
            "justify_content": null,
            "justify_items": null,
            "left": null,
            "margin": null,
            "max_height": null,
            "max_width": null,
            "min_height": null,
            "min_width": null,
            "object_fit": null,
            "object_position": null,
            "order": null,
            "overflow": null,
            "overflow_x": null,
            "overflow_y": null,
            "padding": null,
            "right": null,
            "top": null,
            "visibility": null,
            "width": null
          }
        },
        "8f8c0f3ac12945e99d847d8ede3861e6": {
          "model_module": "@jupyter-widgets/controls",
          "model_name": "DescriptionStyleModel",
          "model_module_version": "1.5.0",
          "state": {
            "_model_module": "@jupyter-widgets/controls",
            "_model_module_version": "1.5.0",
            "_model_name": "DescriptionStyleModel",
            "_view_count": null,
            "_view_module": "@jupyter-widgets/base",
            "_view_module_version": "1.2.0",
            "_view_name": "StyleView",
            "description_width": ""
          }
        },
        "f32b5993dbe54005a10ad5bf9ba05127": {
          "model_module": "@jupyter-widgets/base",
          "model_name": "LayoutModel",
          "model_module_version": "1.2.0",
          "state": {
            "_model_module": "@jupyter-widgets/base",
            "_model_module_version": "1.2.0",
            "_model_name": "LayoutModel",
            "_view_count": null,
            "_view_module": "@jupyter-widgets/base",
            "_view_module_version": "1.2.0",
            "_view_name": "LayoutView",
            "align_content": null,
            "align_items": null,
            "align_self": null,
            "border": null,
            "bottom": null,
            "display": null,
            "flex": null,
            "flex_flow": null,
            "grid_area": null,
            "grid_auto_columns": null,
            "grid_auto_flow": null,
            "grid_auto_rows": null,
            "grid_column": null,
            "grid_gap": null,
            "grid_row": null,
            "grid_template_areas": null,
            "grid_template_columns": null,
            "grid_template_rows": null,
            "height": null,
            "justify_content": null,
            "justify_items": null,
            "left": null,
            "margin": null,
            "max_height": null,
            "max_width": null,
            "min_height": null,
            "min_width": null,
            "object_fit": null,
            "object_position": null,
            "order": null,
            "overflow": null,
            "overflow_x": null,
            "overflow_y": null,
            "padding": null,
            "right": null,
            "top": null,
            "visibility": null,
            "width": null
          }
        },
        "e005e94ba9924ecb925806339faa2aae": {
          "model_module": "@jupyter-widgets/controls",
          "model_name": "ProgressStyleModel",
          "model_module_version": "1.5.0",
          "state": {
            "_model_module": "@jupyter-widgets/controls",
            "_model_module_version": "1.5.0",
            "_model_name": "ProgressStyleModel",
            "_view_count": null,
            "_view_module": "@jupyter-widgets/base",
            "_view_module_version": "1.2.0",
            "_view_name": "StyleView",
            "bar_color": null,
            "description_width": ""
          }
        },
        "7e5f0c8cecf446559c06b739e79ec4d9": {
          "model_module": "@jupyter-widgets/base",
          "model_name": "LayoutModel",
          "model_module_version": "1.2.0",
          "state": {
            "_model_module": "@jupyter-widgets/base",
            "_model_module_version": "1.2.0",
            "_model_name": "LayoutModel",
            "_view_count": null,
            "_view_module": "@jupyter-widgets/base",
            "_view_module_version": "1.2.0",
            "_view_name": "LayoutView",
            "align_content": null,
            "align_items": null,
            "align_self": null,
            "border": null,
            "bottom": null,
            "display": null,
            "flex": null,
            "flex_flow": null,
            "grid_area": null,
            "grid_auto_columns": null,
            "grid_auto_flow": null,
            "grid_auto_rows": null,
            "grid_column": null,
            "grid_gap": null,
            "grid_row": null,
            "grid_template_areas": null,
            "grid_template_columns": null,
            "grid_template_rows": null,
            "height": null,
            "justify_content": null,
            "justify_items": null,
            "left": null,
            "margin": null,
            "max_height": null,
            "max_width": null,
            "min_height": null,
            "min_width": null,
            "object_fit": null,
            "object_position": null,
            "order": null,
            "overflow": null,
            "overflow_x": null,
            "overflow_y": null,
            "padding": null,
            "right": null,
            "top": null,
            "visibility": null,
            "width": null
          }
        },
        "c519e63458f24e30854633c39e0b05f9": {
          "model_module": "@jupyter-widgets/controls",
          "model_name": "DescriptionStyleModel",
          "model_module_version": "1.5.0",
          "state": {
            "_model_module": "@jupyter-widgets/controls",
            "_model_module_version": "1.5.0",
            "_model_name": "DescriptionStyleModel",
            "_view_count": null,
            "_view_module": "@jupyter-widgets/base",
            "_view_module_version": "1.2.0",
            "_view_name": "StyleView",
            "description_width": ""
          }
        },
        "40a32c50a0a14a4fa43a89bbd0ccde25": {
          "model_module": "@jupyter-widgets/controls",
          "model_name": "HBoxModel",
          "model_module_version": "1.5.0",
          "state": {
            "_dom_classes": [],
            "_model_module": "@jupyter-widgets/controls",
            "_model_module_version": "1.5.0",
            "_model_name": "HBoxModel",
            "_view_count": null,
            "_view_module": "@jupyter-widgets/controls",
            "_view_module_version": "1.5.0",
            "_view_name": "HBoxView",
            "box_style": "",
            "children": [
              "IPY_MODEL_64e868e80f43447681db99310d18dbc6",
              "IPY_MODEL_92d384c0e8154e3888a5c6551b923b90",
              "IPY_MODEL_9300e03942bb4e6e8fe3390090d589da"
            ],
            "layout": "IPY_MODEL_00c549011cd24341acae57c801fee6c7"
          }
        },
        "64e868e80f43447681db99310d18dbc6": {
          "model_module": "@jupyter-widgets/controls",
          "model_name": "HTMLModel",
          "model_module_version": "1.5.0",
          "state": {
            "_dom_classes": [],
            "_model_module": "@jupyter-widgets/controls",
            "_model_module_version": "1.5.0",
            "_model_name": "HTMLModel",
            "_view_count": null,
            "_view_module": "@jupyter-widgets/controls",
            "_view_module_version": "1.5.0",
            "_view_name": "HTMLView",
            "description": "",
            "description_tooltip": null,
            "layout": "IPY_MODEL_9b59f57fa5ae477ab71517065979f29a",
            "placeholder": "​",
            "style": "IPY_MODEL_c97a3d79598344cda87300d867d91868",
            "value": "Downloading builder script: 100%"
          }
        },
        "92d384c0e8154e3888a5c6551b923b90": {
          "model_module": "@jupyter-widgets/controls",
          "model_name": "FloatProgressModel",
          "model_module_version": "1.5.0",
          "state": {
            "_dom_classes": [],
            "_model_module": "@jupyter-widgets/controls",
            "_model_module_version": "1.5.0",
            "_model_name": "FloatProgressModel",
            "_view_count": null,
            "_view_module": "@jupyter-widgets/controls",
            "_view_module_version": "1.5.0",
            "_view_name": "ProgressView",
            "bar_style": "success",
            "description": "",
            "description_tooltip": null,
            "layout": "IPY_MODEL_a84b5cce13654637b4d9407aae619551",
            "max": 5937,
            "min": 0,
            "orientation": "horizontal",
            "style": "IPY_MODEL_ae46796c36fa42118dedbc8b93a33141",
            "value": 5937
          }
        },
        "9300e03942bb4e6e8fe3390090d589da": {
          "model_module": "@jupyter-widgets/controls",
          "model_name": "HTMLModel",
          "model_module_version": "1.5.0",
          "state": {
            "_dom_classes": [],
            "_model_module": "@jupyter-widgets/controls",
            "_model_module_version": "1.5.0",
            "_model_name": "HTMLModel",
            "_view_count": null,
            "_view_module": "@jupyter-widgets/controls",
            "_view_module_version": "1.5.0",
            "_view_name": "HTMLView",
            "description": "",
            "description_tooltip": null,
            "layout": "IPY_MODEL_8684ae9776184d0fbe58f77a97adfd28",
            "placeholder": "​",
            "style": "IPY_MODEL_619410c97bb842d28c07cb14b9fdbcca",
            "value": " 5.94k/5.94k [00:00&lt;00:00, 230kB/s]"
          }
        },
        "00c549011cd24341acae57c801fee6c7": {
          "model_module": "@jupyter-widgets/base",
          "model_name": "LayoutModel",
          "model_module_version": "1.2.0",
          "state": {
            "_model_module": "@jupyter-widgets/base",
            "_model_module_version": "1.2.0",
            "_model_name": "LayoutModel",
            "_view_count": null,
            "_view_module": "@jupyter-widgets/base",
            "_view_module_version": "1.2.0",
            "_view_name": "LayoutView",
            "align_content": null,
            "align_items": null,
            "align_self": null,
            "border": null,
            "bottom": null,
            "display": null,
            "flex": null,
            "flex_flow": null,
            "grid_area": null,
            "grid_auto_columns": null,
            "grid_auto_flow": null,
            "grid_auto_rows": null,
            "grid_column": null,
            "grid_gap": null,
            "grid_row": null,
            "grid_template_areas": null,
            "grid_template_columns": null,
            "grid_template_rows": null,
            "height": null,
            "justify_content": null,
            "justify_items": null,
            "left": null,
            "margin": null,
            "max_height": null,
            "max_width": null,
            "min_height": null,
            "min_width": null,
            "object_fit": null,
            "object_position": null,
            "order": null,
            "overflow": null,
            "overflow_x": null,
            "overflow_y": null,
            "padding": null,
            "right": null,
            "top": null,
            "visibility": null,
            "width": null
          }
        },
        "9b59f57fa5ae477ab71517065979f29a": {
          "model_module": "@jupyter-widgets/base",
          "model_name": "LayoutModel",
          "model_module_version": "1.2.0",
          "state": {
            "_model_module": "@jupyter-widgets/base",
            "_model_module_version": "1.2.0",
            "_model_name": "LayoutModel",
            "_view_count": null,
            "_view_module": "@jupyter-widgets/base",
            "_view_module_version": "1.2.0",
            "_view_name": "LayoutView",
            "align_content": null,
            "align_items": null,
            "align_self": null,
            "border": null,
            "bottom": null,
            "display": null,
            "flex": null,
            "flex_flow": null,
            "grid_area": null,
            "grid_auto_columns": null,
            "grid_auto_flow": null,
            "grid_auto_rows": null,
            "grid_column": null,
            "grid_gap": null,
            "grid_row": null,
            "grid_template_areas": null,
            "grid_template_columns": null,
            "grid_template_rows": null,
            "height": null,
            "justify_content": null,
            "justify_items": null,
            "left": null,
            "margin": null,
            "max_height": null,
            "max_width": null,
            "min_height": null,
            "min_width": null,
            "object_fit": null,
            "object_position": null,
            "order": null,
            "overflow": null,
            "overflow_x": null,
            "overflow_y": null,
            "padding": null,
            "right": null,
            "top": null,
            "visibility": null,
            "width": null
          }
        },
        "c97a3d79598344cda87300d867d91868": {
          "model_module": "@jupyter-widgets/controls",
          "model_name": "DescriptionStyleModel",
          "model_module_version": "1.5.0",
          "state": {
            "_model_module": "@jupyter-widgets/controls",
            "_model_module_version": "1.5.0",
            "_model_name": "DescriptionStyleModel",
            "_view_count": null,
            "_view_module": "@jupyter-widgets/base",
            "_view_module_version": "1.2.0",
            "_view_name": "StyleView",
            "description_width": ""
          }
        },
        "a84b5cce13654637b4d9407aae619551": {
          "model_module": "@jupyter-widgets/base",
          "model_name": "LayoutModel",
          "model_module_version": "1.2.0",
          "state": {
            "_model_module": "@jupyter-widgets/base",
            "_model_module_version": "1.2.0",
            "_model_name": "LayoutModel",
            "_view_count": null,
            "_view_module": "@jupyter-widgets/base",
            "_view_module_version": "1.2.0",
            "_view_name": "LayoutView",
            "align_content": null,
            "align_items": null,
            "align_self": null,
            "border": null,
            "bottom": null,
            "display": null,
            "flex": null,
            "flex_flow": null,
            "grid_area": null,
            "grid_auto_columns": null,
            "grid_auto_flow": null,
            "grid_auto_rows": null,
            "grid_column": null,
            "grid_gap": null,
            "grid_row": null,
            "grid_template_areas": null,
            "grid_template_columns": null,
            "grid_template_rows": null,
            "height": null,
            "justify_content": null,
            "justify_items": null,
            "left": null,
            "margin": null,
            "max_height": null,
            "max_width": null,
            "min_height": null,
            "min_width": null,
            "object_fit": null,
            "object_position": null,
            "order": null,
            "overflow": null,
            "overflow_x": null,
            "overflow_y": null,
            "padding": null,
            "right": null,
            "top": null,
            "visibility": null,
            "width": null
          }
        },
        "ae46796c36fa42118dedbc8b93a33141": {
          "model_module": "@jupyter-widgets/controls",
          "model_name": "ProgressStyleModel",
          "model_module_version": "1.5.0",
          "state": {
            "_model_module": "@jupyter-widgets/controls",
            "_model_module_version": "1.5.0",
            "_model_name": "ProgressStyleModel",
            "_view_count": null,
            "_view_module": "@jupyter-widgets/base",
            "_view_module_version": "1.2.0",
            "_view_name": "StyleView",
            "bar_color": null,
            "description_width": ""
          }
        },
        "8684ae9776184d0fbe58f77a97adfd28": {
          "model_module": "@jupyter-widgets/base",
          "model_name": "LayoutModel",
          "model_module_version": "1.2.0",
          "state": {
            "_model_module": "@jupyter-widgets/base",
            "_model_module_version": "1.2.0",
            "_model_name": "LayoutModel",
            "_view_count": null,
            "_view_module": "@jupyter-widgets/base",
            "_view_module_version": "1.2.0",
            "_view_name": "LayoutView",
            "align_content": null,
            "align_items": null,
            "align_self": null,
            "border": null,
            "bottom": null,
            "display": null,
            "flex": null,
            "flex_flow": null,
            "grid_area": null,
            "grid_auto_columns": null,
            "grid_auto_flow": null,
            "grid_auto_rows": null,
            "grid_column": null,
            "grid_gap": null,
            "grid_row": null,
            "grid_template_areas": null,
            "grid_template_columns": null,
            "grid_template_rows": null,
            "height": null,
            "justify_content": null,
            "justify_items": null,
            "left": null,
            "margin": null,
            "max_height": null,
            "max_width": null,
            "min_height": null,
            "min_width": null,
            "object_fit": null,
            "object_position": null,
            "order": null,
            "overflow": null,
            "overflow_x": null,
            "overflow_y": null,
            "padding": null,
            "right": null,
            "top": null,
            "visibility": null,
            "width": null
          }
        },
        "619410c97bb842d28c07cb14b9fdbcca": {
          "model_module": "@jupyter-widgets/controls",
          "model_name": "DescriptionStyleModel",
          "model_module_version": "1.5.0",
          "state": {
            "_model_module": "@jupyter-widgets/controls",
            "_model_module_version": "1.5.0",
            "_model_name": "DescriptionStyleModel",
            "_view_count": null,
            "_view_module": "@jupyter-widgets/base",
            "_view_module_version": "1.2.0",
            "_view_name": "StyleView",
            "description_width": ""
          }
        },
        "d90b1e07a1f543f1b7d7c644c94ec91e": {
          "model_module": "@jupyter-widgets/controls",
          "model_name": "HBoxModel",
          "model_module_version": "1.5.0",
          "state": {
            "_dom_classes": [],
            "_model_module": "@jupyter-widgets/controls",
            "_model_module_version": "1.5.0",
            "_model_name": "HBoxModel",
            "_view_count": null,
            "_view_module": "@jupyter-widgets/controls",
            "_view_module_version": "1.5.0",
            "_view_name": "HBoxView",
            "box_style": "",
            "children": [
              "IPY_MODEL_777cb6e75be84212bb0d75887fdf5285",
              "IPY_MODEL_ad17b40be3ac4ee68bded710c024b231",
              "IPY_MODEL_85ee5b7815aa40678cf2fd6866efa1fb"
            ],
            "layout": "IPY_MODEL_65676059579e4648847ed3c328fc6f7e"
          }
        },
        "777cb6e75be84212bb0d75887fdf5285": {
          "model_module": "@jupyter-widgets/controls",
          "model_name": "HTMLModel",
          "model_module_version": "1.5.0",
          "state": {
            "_dom_classes": [],
            "_model_module": "@jupyter-widgets/controls",
            "_model_module_version": "1.5.0",
            "_model_name": "HTMLModel",
            "_view_count": null,
            "_view_module": "@jupyter-widgets/controls",
            "_view_module_version": "1.5.0",
            "_view_name": "HTMLView",
            "description": "",
            "description_tooltip": null,
            "layout": "IPY_MODEL_e724b467c22648ef909f3f72964e4f3c",
            "placeholder": "​",
            "style": "IPY_MODEL_0f0e8269ec6d4c338c6471268c12338f",
            "value": "Downloading extra modules: "
          }
        },
        "ad17b40be3ac4ee68bded710c024b231": {
          "model_module": "@jupyter-widgets/controls",
          "model_name": "FloatProgressModel",
          "model_module_version": "1.5.0",
          "state": {
            "_dom_classes": [],
            "_model_module": "@jupyter-widgets/controls",
            "_model_module_version": "1.5.0",
            "_model_name": "FloatProgressModel",
            "_view_count": null,
            "_view_module": "@jupyter-widgets/controls",
            "_view_module_version": "1.5.0",
            "_view_name": "ProgressView",
            "bar_style": "success",
            "description": "",
            "description_tooltip": null,
            "layout": "IPY_MODEL_968756cccc524da8a947e58a71705c5e",
            "max": 1554,
            "min": 0,
            "orientation": "horizontal",
            "style": "IPY_MODEL_a43bfbff98c341788fa6e87da2ddcf61",
            "value": 1554
          }
        },
        "85ee5b7815aa40678cf2fd6866efa1fb": {
          "model_module": "@jupyter-widgets/controls",
          "model_name": "HTMLModel",
          "model_module_version": "1.5.0",
          "state": {
            "_dom_classes": [],
            "_model_module": "@jupyter-widgets/controls",
            "_model_module_version": "1.5.0",
            "_model_name": "HTMLModel",
            "_view_count": null,
            "_view_module": "@jupyter-widgets/controls",
            "_view_module_version": "1.5.0",
            "_view_name": "HTMLView",
            "description": "",
            "description_tooltip": null,
            "layout": "IPY_MODEL_378d4c171c4242debeafc73612aad65f",
            "placeholder": "​",
            "style": "IPY_MODEL_01a0ea155b614ec4ba74089486e32191",
            "value": " 4.07k/? [00:00&lt;00:00, 126kB/s]"
          }
        },
        "65676059579e4648847ed3c328fc6f7e": {
          "model_module": "@jupyter-widgets/base",
          "model_name": "LayoutModel",
          "model_module_version": "1.2.0",
          "state": {
            "_model_module": "@jupyter-widgets/base",
            "_model_module_version": "1.2.0",
            "_model_name": "LayoutModel",
            "_view_count": null,
            "_view_module": "@jupyter-widgets/base",
            "_view_module_version": "1.2.0",
            "_view_name": "LayoutView",
            "align_content": null,
            "align_items": null,
            "align_self": null,
            "border": null,
            "bottom": null,
            "display": null,
            "flex": null,
            "flex_flow": null,
            "grid_area": null,
            "grid_auto_columns": null,
            "grid_auto_flow": null,
            "grid_auto_rows": null,
            "grid_column": null,
            "grid_gap": null,
            "grid_row": null,
            "grid_template_areas": null,
            "grid_template_columns": null,
            "grid_template_rows": null,
            "height": null,
            "justify_content": null,
            "justify_items": null,
            "left": null,
            "margin": null,
            "max_height": null,
            "max_width": null,
            "min_height": null,
            "min_width": null,
            "object_fit": null,
            "object_position": null,
            "order": null,
            "overflow": null,
            "overflow_x": null,
            "overflow_y": null,
            "padding": null,
            "right": null,
            "top": null,
            "visibility": null,
            "width": null
          }
        },
        "e724b467c22648ef909f3f72964e4f3c": {
          "model_module": "@jupyter-widgets/base",
          "model_name": "LayoutModel",
          "model_module_version": "1.2.0",
          "state": {
            "_model_module": "@jupyter-widgets/base",
            "_model_module_version": "1.2.0",
            "_model_name": "LayoutModel",
            "_view_count": null,
            "_view_module": "@jupyter-widgets/base",
            "_view_module_version": "1.2.0",
            "_view_name": "LayoutView",
            "align_content": null,
            "align_items": null,
            "align_self": null,
            "border": null,
            "bottom": null,
            "display": null,
            "flex": null,
            "flex_flow": null,
            "grid_area": null,
            "grid_auto_columns": null,
            "grid_auto_flow": null,
            "grid_auto_rows": null,
            "grid_column": null,
            "grid_gap": null,
            "grid_row": null,
            "grid_template_areas": null,
            "grid_template_columns": null,
            "grid_template_rows": null,
            "height": null,
            "justify_content": null,
            "justify_items": null,
            "left": null,
            "margin": null,
            "max_height": null,
            "max_width": null,
            "min_height": null,
            "min_width": null,
            "object_fit": null,
            "object_position": null,
            "order": null,
            "overflow": null,
            "overflow_x": null,
            "overflow_y": null,
            "padding": null,
            "right": null,
            "top": null,
            "visibility": null,
            "width": null
          }
        },
        "0f0e8269ec6d4c338c6471268c12338f": {
          "model_module": "@jupyter-widgets/controls",
          "model_name": "DescriptionStyleModel",
          "model_module_version": "1.5.0",
          "state": {
            "_model_module": "@jupyter-widgets/controls",
            "_model_module_version": "1.5.0",
            "_model_name": "DescriptionStyleModel",
            "_view_count": null,
            "_view_module": "@jupyter-widgets/base",
            "_view_module_version": "1.2.0",
            "_view_name": "StyleView",
            "description_width": ""
          }
        },
        "968756cccc524da8a947e58a71705c5e": {
          "model_module": "@jupyter-widgets/base",
          "model_name": "LayoutModel",
          "model_module_version": "1.2.0",
          "state": {
            "_model_module": "@jupyter-widgets/base",
            "_model_module_version": "1.2.0",
            "_model_name": "LayoutModel",
            "_view_count": null,
            "_view_module": "@jupyter-widgets/base",
            "_view_module_version": "1.2.0",
            "_view_name": "LayoutView",
            "align_content": null,
            "align_items": null,
            "align_self": null,
            "border": null,
            "bottom": null,
            "display": null,
            "flex": null,
            "flex_flow": null,
            "grid_area": null,
            "grid_auto_columns": null,
            "grid_auto_flow": null,
            "grid_auto_rows": null,
            "grid_column": null,
            "grid_gap": null,
            "grid_row": null,
            "grid_template_areas": null,
            "grid_template_columns": null,
            "grid_template_rows": null,
            "height": null,
            "justify_content": null,
            "justify_items": null,
            "left": null,
            "margin": null,
            "max_height": null,
            "max_width": null,
            "min_height": null,
            "min_width": null,
            "object_fit": null,
            "object_position": null,
            "order": null,
            "overflow": null,
            "overflow_x": null,
            "overflow_y": null,
            "padding": null,
            "right": null,
            "top": null,
            "visibility": null,
            "width": null
          }
        },
        "a43bfbff98c341788fa6e87da2ddcf61": {
          "model_module": "@jupyter-widgets/controls",
          "model_name": "ProgressStyleModel",
          "model_module_version": "1.5.0",
          "state": {
            "_model_module": "@jupyter-widgets/controls",
            "_model_module_version": "1.5.0",
            "_model_name": "ProgressStyleModel",
            "_view_count": null,
            "_view_module": "@jupyter-widgets/base",
            "_view_module_version": "1.2.0",
            "_view_name": "StyleView",
            "bar_color": null,
            "description_width": ""
          }
        },
        "378d4c171c4242debeafc73612aad65f": {
          "model_module": "@jupyter-widgets/base",
          "model_name": "LayoutModel",
          "model_module_version": "1.2.0",
          "state": {
            "_model_module": "@jupyter-widgets/base",
            "_model_module_version": "1.2.0",
            "_model_name": "LayoutModel",
            "_view_count": null,
            "_view_module": "@jupyter-widgets/base",
            "_view_module_version": "1.2.0",
            "_view_name": "LayoutView",
            "align_content": null,
            "align_items": null,
            "align_self": null,
            "border": null,
            "bottom": null,
            "display": null,
            "flex": null,
            "flex_flow": null,
            "grid_area": null,
            "grid_auto_columns": null,
            "grid_auto_flow": null,
            "grid_auto_rows": null,
            "grid_column": null,
            "grid_gap": null,
            "grid_row": null,
            "grid_template_areas": null,
            "grid_template_columns": null,
            "grid_template_rows": null,
            "height": null,
            "justify_content": null,
            "justify_items": null,
            "left": null,
            "margin": null,
            "max_height": null,
            "max_width": null,
            "min_height": null,
            "min_width": null,
            "object_fit": null,
            "object_position": null,
            "order": null,
            "overflow": null,
            "overflow_x": null,
            "overflow_y": null,
            "padding": null,
            "right": null,
            "top": null,
            "visibility": null,
            "width": null
          }
        },
        "01a0ea155b614ec4ba74089486e32191": {
          "model_module": "@jupyter-widgets/controls",
          "model_name": "DescriptionStyleModel",
          "model_module_version": "1.5.0",
          "state": {
            "_model_module": "@jupyter-widgets/controls",
            "_model_module_version": "1.5.0",
            "_model_name": "DescriptionStyleModel",
            "_view_count": null,
            "_view_module": "@jupyter-widgets/base",
            "_view_module_version": "1.2.0",
            "_view_name": "StyleView",
            "description_width": ""
          }
        },
        "1b9a95f00b5a41508892a2f7438b10bb": {
          "model_module": "@jupyter-widgets/controls",
          "model_name": "HBoxModel",
          "model_module_version": "1.5.0",
          "state": {
            "_dom_classes": [],
            "_model_module": "@jupyter-widgets/controls",
            "_model_module_version": "1.5.0",
            "_model_name": "HBoxModel",
            "_view_count": null,
            "_view_module": "@jupyter-widgets/controls",
            "_view_module_version": "1.5.0",
            "_view_name": "HBoxView",
            "box_style": "",
            "children": [
              "IPY_MODEL_9dc0be4e10ec44ac9a8fed62cda6d756",
              "IPY_MODEL_747c7511d45041b1876167eb67bc3fd5",
              "IPY_MODEL_f153fecfd64d450280fc4be7ae1c79d2"
            ],
            "layout": "IPY_MODEL_ed09c546a0fc40158277e43d7f03476e"
          }
        },
        "9dc0be4e10ec44ac9a8fed62cda6d756": {
          "model_module": "@jupyter-widgets/controls",
          "model_name": "HTMLModel",
          "model_module_version": "1.5.0",
          "state": {
            "_dom_classes": [],
            "_model_module": "@jupyter-widgets/controls",
            "_model_module_version": "1.5.0",
            "_model_name": "HTMLModel",
            "_view_count": null,
            "_view_module": "@jupyter-widgets/controls",
            "_view_module_version": "1.5.0",
            "_view_name": "HTMLView",
            "description": "",
            "description_tooltip": null,
            "layout": "IPY_MODEL_0921f79ac76749a2a0fd2753a1f1e608",
            "placeholder": "​",
            "style": "IPY_MODEL_6dfdba0ac3724e0185577c6c4460f209",
            "value": "Downloading extra modules: 100%"
          }
        },
        "747c7511d45041b1876167eb67bc3fd5": {
          "model_module": "@jupyter-widgets/controls",
          "model_name": "FloatProgressModel",
          "model_module_version": "1.5.0",
          "state": {
            "_dom_classes": [],
            "_model_module": "@jupyter-widgets/controls",
            "_model_module_version": "1.5.0",
            "_model_name": "FloatProgressModel",
            "_view_count": null,
            "_view_module": "@jupyter-widgets/controls",
            "_view_module_version": "1.5.0",
            "_view_name": "ProgressView",
            "bar_style": "success",
            "description": "",
            "description_tooltip": null,
            "layout": "IPY_MODEL_790ec9ff12ec40f6a5c3c8956750930b",
            "max": 3344,
            "min": 0,
            "orientation": "horizontal",
            "style": "IPY_MODEL_9d24a6ae20764cf8bf1e17d2de352aa9",
            "value": 3344
          }
        },
        "f153fecfd64d450280fc4be7ae1c79d2": {
          "model_module": "@jupyter-widgets/controls",
          "model_name": "HTMLModel",
          "model_module_version": "1.5.0",
          "state": {
            "_dom_classes": [],
            "_model_module": "@jupyter-widgets/controls",
            "_model_module_version": "1.5.0",
            "_model_name": "HTMLModel",
            "_view_count": null,
            "_view_module": "@jupyter-widgets/controls",
            "_view_module_version": "1.5.0",
            "_view_name": "HTMLView",
            "description": "",
            "description_tooltip": null,
            "layout": "IPY_MODEL_aadda5d170dd40d0b3660bdadf21288b",
            "placeholder": "​",
            "style": "IPY_MODEL_2794ed240dd244b6aa5f3c8676fb1288",
            "value": " 3.34k/3.34k [00:00&lt;00:00, 117kB/s]"
          }
        },
        "ed09c546a0fc40158277e43d7f03476e": {
          "model_module": "@jupyter-widgets/base",
          "model_name": "LayoutModel",
          "model_module_version": "1.2.0",
          "state": {
            "_model_module": "@jupyter-widgets/base",
            "_model_module_version": "1.2.0",
            "_model_name": "LayoutModel",
            "_view_count": null,
            "_view_module": "@jupyter-widgets/base",
            "_view_module_version": "1.2.0",
            "_view_name": "LayoutView",
            "align_content": null,
            "align_items": null,
            "align_self": null,
            "border": null,
            "bottom": null,
            "display": null,
            "flex": null,
            "flex_flow": null,
            "grid_area": null,
            "grid_auto_columns": null,
            "grid_auto_flow": null,
            "grid_auto_rows": null,
            "grid_column": null,
            "grid_gap": null,
            "grid_row": null,
            "grid_template_areas": null,
            "grid_template_columns": null,
            "grid_template_rows": null,
            "height": null,
            "justify_content": null,
            "justify_items": null,
            "left": null,
            "margin": null,
            "max_height": null,
            "max_width": null,
            "min_height": null,
            "min_width": null,
            "object_fit": null,
            "object_position": null,
            "order": null,
            "overflow": null,
            "overflow_x": null,
            "overflow_y": null,
            "padding": null,
            "right": null,
            "top": null,
            "visibility": null,
            "width": null
          }
        },
        "0921f79ac76749a2a0fd2753a1f1e608": {
          "model_module": "@jupyter-widgets/base",
          "model_name": "LayoutModel",
          "model_module_version": "1.2.0",
          "state": {
            "_model_module": "@jupyter-widgets/base",
            "_model_module_version": "1.2.0",
            "_model_name": "LayoutModel",
            "_view_count": null,
            "_view_module": "@jupyter-widgets/base",
            "_view_module_version": "1.2.0",
            "_view_name": "LayoutView",
            "align_content": null,
            "align_items": null,
            "align_self": null,
            "border": null,
            "bottom": null,
            "display": null,
            "flex": null,
            "flex_flow": null,
            "grid_area": null,
            "grid_auto_columns": null,
            "grid_auto_flow": null,
            "grid_auto_rows": null,
            "grid_column": null,
            "grid_gap": null,
            "grid_row": null,
            "grid_template_areas": null,
            "grid_template_columns": null,
            "grid_template_rows": null,
            "height": null,
            "justify_content": null,
            "justify_items": null,
            "left": null,
            "margin": null,
            "max_height": null,
            "max_width": null,
            "min_height": null,
            "min_width": null,
            "object_fit": null,
            "object_position": null,
            "order": null,
            "overflow": null,
            "overflow_x": null,
            "overflow_y": null,
            "padding": null,
            "right": null,
            "top": null,
            "visibility": null,
            "width": null
          }
        },
        "6dfdba0ac3724e0185577c6c4460f209": {
          "model_module": "@jupyter-widgets/controls",
          "model_name": "DescriptionStyleModel",
          "model_module_version": "1.5.0",
          "state": {
            "_model_module": "@jupyter-widgets/controls",
            "_model_module_version": "1.5.0",
            "_model_name": "DescriptionStyleModel",
            "_view_count": null,
            "_view_module": "@jupyter-widgets/base",
            "_view_module_version": "1.2.0",
            "_view_name": "StyleView",
            "description_width": ""
          }
        },
        "790ec9ff12ec40f6a5c3c8956750930b": {
          "model_module": "@jupyter-widgets/base",
          "model_name": "LayoutModel",
          "model_module_version": "1.2.0",
          "state": {
            "_model_module": "@jupyter-widgets/base",
            "_model_module_version": "1.2.0",
            "_model_name": "LayoutModel",
            "_view_count": null,
            "_view_module": "@jupyter-widgets/base",
            "_view_module_version": "1.2.0",
            "_view_name": "LayoutView",
            "align_content": null,
            "align_items": null,
            "align_self": null,
            "border": null,
            "bottom": null,
            "display": null,
            "flex": null,
            "flex_flow": null,
            "grid_area": null,
            "grid_auto_columns": null,
            "grid_auto_flow": null,
            "grid_auto_rows": null,
            "grid_column": null,
            "grid_gap": null,
            "grid_row": null,
            "grid_template_areas": null,
            "grid_template_columns": null,
            "grid_template_rows": null,
            "height": null,
            "justify_content": null,
            "justify_items": null,
            "left": null,
            "margin": null,
            "max_height": null,
            "max_width": null,
            "min_height": null,
            "min_width": null,
            "object_fit": null,
            "object_position": null,
            "order": null,
            "overflow": null,
            "overflow_x": null,
            "overflow_y": null,
            "padding": null,
            "right": null,
            "top": null,
            "visibility": null,
            "width": null
          }
        },
        "9d24a6ae20764cf8bf1e17d2de352aa9": {
          "model_module": "@jupyter-widgets/controls",
          "model_name": "ProgressStyleModel",
          "model_module_version": "1.5.0",
          "state": {
            "_model_module": "@jupyter-widgets/controls",
            "_model_module_version": "1.5.0",
            "_model_name": "ProgressStyleModel",
            "_view_count": null,
            "_view_module": "@jupyter-widgets/base",
            "_view_module_version": "1.2.0",
            "_view_name": "StyleView",
            "bar_color": null,
            "description_width": ""
          }
        },
        "aadda5d170dd40d0b3660bdadf21288b": {
          "model_module": "@jupyter-widgets/base",
          "model_name": "LayoutModel",
          "model_module_version": "1.2.0",
          "state": {
            "_model_module": "@jupyter-widgets/base",
            "_model_module_version": "1.2.0",
            "_model_name": "LayoutModel",
            "_view_count": null,
            "_view_module": "@jupyter-widgets/base",
            "_view_module_version": "1.2.0",
            "_view_name": "LayoutView",
            "align_content": null,
            "align_items": null,
            "align_self": null,
            "border": null,
            "bottom": null,
            "display": null,
            "flex": null,
            "flex_flow": null,
            "grid_area": null,
            "grid_auto_columns": null,
            "grid_auto_flow": null,
            "grid_auto_rows": null,
            "grid_column": null,
            "grid_gap": null,
            "grid_row": null,
            "grid_template_areas": null,
            "grid_template_columns": null,
            "grid_template_rows": null,
            "height": null,
            "justify_content": null,
            "justify_items": null,
            "left": null,
            "margin": null,
            "max_height": null,
            "max_width": null,
            "min_height": null,
            "min_width": null,
            "object_fit": null,
            "object_position": null,
            "order": null,
            "overflow": null,
            "overflow_x": null,
            "overflow_y": null,
            "padding": null,
            "right": null,
            "top": null,
            "visibility": null,
            "width": null
          }
        },
        "2794ed240dd244b6aa5f3c8676fb1288": {
          "model_module": "@jupyter-widgets/controls",
          "model_name": "DescriptionStyleModel",
          "model_module_version": "1.5.0",
          "state": {
            "_model_module": "@jupyter-widgets/controls",
            "_model_module_version": "1.5.0",
            "_model_name": "DescriptionStyleModel",
            "_view_count": null,
            "_view_module": "@jupyter-widgets/base",
            "_view_module_version": "1.2.0",
            "_view_name": "StyleView",
            "description_width": ""
          }
        },
        "a41d2b44f7a04f53bf258d224552c24c": {
          "model_module": "@jupyter-widgets/controls",
          "model_name": "HBoxModel",
          "model_module_version": "1.5.0",
          "state": {
            "_dom_classes": [],
            "_model_module": "@jupyter-widgets/controls",
            "_model_module_version": "1.5.0",
            "_model_name": "HBoxModel",
            "_view_count": null,
            "_view_module": "@jupyter-widgets/controls",
            "_view_module_version": "1.5.0",
            "_view_name": "HBoxView",
            "box_style": "",
            "children": [
              "IPY_MODEL_0cdfc399b0fa40bfb7bc07b6368c8d32",
              "IPY_MODEL_ce3a5426794046bfbeddb4ba1ec6a054",
              "IPY_MODEL_21729a5d8aa2469d91c799895a3c8eb9"
            ],
            "layout": "IPY_MODEL_7d271a79ee9e477eb11e78c54d79e58a"
          }
        },
        "0cdfc399b0fa40bfb7bc07b6368c8d32": {
          "model_module": "@jupyter-widgets/controls",
          "model_name": "HTMLModel",
          "model_module_version": "1.5.0",
          "state": {
            "_dom_classes": [],
            "_model_module": "@jupyter-widgets/controls",
            "_model_module_version": "1.5.0",
            "_model_name": "HTMLModel",
            "_view_count": null,
            "_view_module": "@jupyter-widgets/controls",
            "_view_module_version": "1.5.0",
            "_view_name": "HTMLView",
            "description": "",
            "description_tooltip": null,
            "layout": "IPY_MODEL_f1ef8778c4914fb38ed5cac794d61960",
            "placeholder": "​",
            "style": "IPY_MODEL_ad95fa0ca4e54520a46d1ba5e13d3646",
            "value": "Downloading builder script: 100%"
          }
        },
        "ce3a5426794046bfbeddb4ba1ec6a054": {
          "model_module": "@jupyter-widgets/controls",
          "model_name": "FloatProgressModel",
          "model_module_version": "1.5.0",
          "state": {
            "_dom_classes": [],
            "_model_module": "@jupyter-widgets/controls",
            "_model_module_version": "1.5.0",
            "_model_name": "FloatProgressModel",
            "_view_count": null,
            "_view_module": "@jupyter-widgets/controls",
            "_view_module_version": "1.5.0",
            "_view_name": "ProgressView",
            "bar_style": "success",
            "description": "",
            "description_tooltip": null,
            "layout": "IPY_MODEL_2c04dc617eb04ab082d1b4c59f4f3609",
            "max": 6785,
            "min": 0,
            "orientation": "horizontal",
            "style": "IPY_MODEL_164c9aea70ea42c99092dcb73e9fbb86",
            "value": 6785
          }
        },
        "21729a5d8aa2469d91c799895a3c8eb9": {
          "model_module": "@jupyter-widgets/controls",
          "model_name": "HTMLModel",
          "model_module_version": "1.5.0",
          "state": {
            "_dom_classes": [],
            "_model_module": "@jupyter-widgets/controls",
            "_model_module_version": "1.5.0",
            "_model_name": "HTMLModel",
            "_view_count": null,
            "_view_module": "@jupyter-widgets/controls",
            "_view_module_version": "1.5.0",
            "_view_name": "HTMLView",
            "description": "",
            "description_tooltip": null,
            "layout": "IPY_MODEL_bd630565826c4eb2bd04824b2805ee07",
            "placeholder": "​",
            "style": "IPY_MODEL_b1bee121a50f48378ca8f2992b2ca943",
            "value": " 6.79k/6.79k [00:00&lt;00:00, 356kB/s]"
          }
        },
        "7d271a79ee9e477eb11e78c54d79e58a": {
          "model_module": "@jupyter-widgets/base",
          "model_name": "LayoutModel",
          "model_module_version": "1.2.0",
          "state": {
            "_model_module": "@jupyter-widgets/base",
            "_model_module_version": "1.2.0",
            "_model_name": "LayoutModel",
            "_view_count": null,
            "_view_module": "@jupyter-widgets/base",
            "_view_module_version": "1.2.0",
            "_view_name": "LayoutView",
            "align_content": null,
            "align_items": null,
            "align_self": null,
            "border": null,
            "bottom": null,
            "display": null,
            "flex": null,
            "flex_flow": null,
            "grid_area": null,
            "grid_auto_columns": null,
            "grid_auto_flow": null,
            "grid_auto_rows": null,
            "grid_column": null,
            "grid_gap": null,
            "grid_row": null,
            "grid_template_areas": null,
            "grid_template_columns": null,
            "grid_template_rows": null,
            "height": null,
            "justify_content": null,
            "justify_items": null,
            "left": null,
            "margin": null,
            "max_height": null,
            "max_width": null,
            "min_height": null,
            "min_width": null,
            "object_fit": null,
            "object_position": null,
            "order": null,
            "overflow": null,
            "overflow_x": null,
            "overflow_y": null,
            "padding": null,
            "right": null,
            "top": null,
            "visibility": null,
            "width": null
          }
        },
        "f1ef8778c4914fb38ed5cac794d61960": {
          "model_module": "@jupyter-widgets/base",
          "model_name": "LayoutModel",
          "model_module_version": "1.2.0",
          "state": {
            "_model_module": "@jupyter-widgets/base",
            "_model_module_version": "1.2.0",
            "_model_name": "LayoutModel",
            "_view_count": null,
            "_view_module": "@jupyter-widgets/base",
            "_view_module_version": "1.2.0",
            "_view_name": "LayoutView",
            "align_content": null,
            "align_items": null,
            "align_self": null,
            "border": null,
            "bottom": null,
            "display": null,
            "flex": null,
            "flex_flow": null,
            "grid_area": null,
            "grid_auto_columns": null,
            "grid_auto_flow": null,
            "grid_auto_rows": null,
            "grid_column": null,
            "grid_gap": null,
            "grid_row": null,
            "grid_template_areas": null,
            "grid_template_columns": null,
            "grid_template_rows": null,
            "height": null,
            "justify_content": null,
            "justify_items": null,
            "left": null,
            "margin": null,
            "max_height": null,
            "max_width": null,
            "min_height": null,
            "min_width": null,
            "object_fit": null,
            "object_position": null,
            "order": null,
            "overflow": null,
            "overflow_x": null,
            "overflow_y": null,
            "padding": null,
            "right": null,
            "top": null,
            "visibility": null,
            "width": null
          }
        },
        "ad95fa0ca4e54520a46d1ba5e13d3646": {
          "model_module": "@jupyter-widgets/controls",
          "model_name": "DescriptionStyleModel",
          "model_module_version": "1.5.0",
          "state": {
            "_model_module": "@jupyter-widgets/controls",
            "_model_module_version": "1.5.0",
            "_model_name": "DescriptionStyleModel",
            "_view_count": null,
            "_view_module": "@jupyter-widgets/base",
            "_view_module_version": "1.2.0",
            "_view_name": "StyleView",
            "description_width": ""
          }
        },
        "2c04dc617eb04ab082d1b4c59f4f3609": {
          "model_module": "@jupyter-widgets/base",
          "model_name": "LayoutModel",
          "model_module_version": "1.2.0",
          "state": {
            "_model_module": "@jupyter-widgets/base",
            "_model_module_version": "1.2.0",
            "_model_name": "LayoutModel",
            "_view_count": null,
            "_view_module": "@jupyter-widgets/base",
            "_view_module_version": "1.2.0",
            "_view_name": "LayoutView",
            "align_content": null,
            "align_items": null,
            "align_self": null,
            "border": null,
            "bottom": null,
            "display": null,
            "flex": null,
            "flex_flow": null,
            "grid_area": null,
            "grid_auto_columns": null,
            "grid_auto_flow": null,
            "grid_auto_rows": null,
            "grid_column": null,
            "grid_gap": null,
            "grid_row": null,
            "grid_template_areas": null,
            "grid_template_columns": null,
            "grid_template_rows": null,
            "height": null,
            "justify_content": null,
            "justify_items": null,
            "left": null,
            "margin": null,
            "max_height": null,
            "max_width": null,
            "min_height": null,
            "min_width": null,
            "object_fit": null,
            "object_position": null,
            "order": null,
            "overflow": null,
            "overflow_x": null,
            "overflow_y": null,
            "padding": null,
            "right": null,
            "top": null,
            "visibility": null,
            "width": null
          }
        },
        "164c9aea70ea42c99092dcb73e9fbb86": {
          "model_module": "@jupyter-widgets/controls",
          "model_name": "ProgressStyleModel",
          "model_module_version": "1.5.0",
          "state": {
            "_model_module": "@jupyter-widgets/controls",
            "_model_module_version": "1.5.0",
            "_model_name": "ProgressStyleModel",
            "_view_count": null,
            "_view_module": "@jupyter-widgets/base",
            "_view_module_version": "1.2.0",
            "_view_name": "StyleView",
            "bar_color": null,
            "description_width": ""
          }
        },
        "bd630565826c4eb2bd04824b2805ee07": {
          "model_module": "@jupyter-widgets/base",
          "model_name": "LayoutModel",
          "model_module_version": "1.2.0",
          "state": {
            "_model_module": "@jupyter-widgets/base",
            "_model_module_version": "1.2.0",
            "_model_name": "LayoutModel",
            "_view_count": null,
            "_view_module": "@jupyter-widgets/base",
            "_view_module_version": "1.2.0",
            "_view_name": "LayoutView",
            "align_content": null,
            "align_items": null,
            "align_self": null,
            "border": null,
            "bottom": null,
            "display": null,
            "flex": null,
            "flex_flow": null,
            "grid_area": null,
            "grid_auto_columns": null,
            "grid_auto_flow": null,
            "grid_auto_rows": null,
            "grid_column": null,
            "grid_gap": null,
            "grid_row": null,
            "grid_template_areas": null,
            "grid_template_columns": null,
            "grid_template_rows": null,
            "height": null,
            "justify_content": null,
            "justify_items": null,
            "left": null,
            "margin": null,
            "max_height": null,
            "max_width": null,
            "min_height": null,
            "min_width": null,
            "object_fit": null,
            "object_position": null,
            "order": null,
            "overflow": null,
            "overflow_x": null,
            "overflow_y": null,
            "padding": null,
            "right": null,
            "top": null,
            "visibility": null,
            "width": null
          }
        },
        "b1bee121a50f48378ca8f2992b2ca943": {
          "model_module": "@jupyter-widgets/controls",
          "model_name": "DescriptionStyleModel",
          "model_module_version": "1.5.0",
          "state": {
            "_model_module": "@jupyter-widgets/controls",
            "_model_module_version": "1.5.0",
            "_model_name": "DescriptionStyleModel",
            "_view_count": null,
            "_view_module": "@jupyter-widgets/base",
            "_view_module_version": "1.2.0",
            "_view_name": "StyleView",
            "description_width": ""
          }
        },
        "39e0919ca8ab4a87b9e9a64ab445dff7": {
          "model_module": "@jupyter-widgets/controls",
          "model_name": "HBoxModel",
          "model_module_version": "1.5.0",
          "state": {
            "_dom_classes": [],
            "_model_module": "@jupyter-widgets/controls",
            "_model_module_version": "1.5.0",
            "_model_name": "HBoxModel",
            "_view_count": null,
            "_view_module": "@jupyter-widgets/controls",
            "_view_module_version": "1.5.0",
            "_view_name": "HBoxView",
            "box_style": "",
            "children": [
              "IPY_MODEL_43016b4d515d49ceb888e8ebdbafaa2e",
              "IPY_MODEL_d054701e2fa94c679b52737eeece303e",
              "IPY_MODEL_77f52aad5758496d8206fe76ce316f65"
            ],
            "layout": "IPY_MODEL_16e5ed89c3b54bfbaf17a64b2ca3aa2e"
          }
        },
        "43016b4d515d49ceb888e8ebdbafaa2e": {
          "model_module": "@jupyter-widgets/controls",
          "model_name": "HTMLModel",
          "model_module_version": "1.5.0",
          "state": {
            "_dom_classes": [],
            "_model_module": "@jupyter-widgets/controls",
            "_model_module_version": "1.5.0",
            "_model_name": "HTMLModel",
            "_view_count": null,
            "_view_module": "@jupyter-widgets/controls",
            "_view_module_version": "1.5.0",
            "_view_name": "HTMLView",
            "description": "",
            "description_tooltip": null,
            "layout": "IPY_MODEL_9f8f5399c1cd41d6b361f060f3829efc",
            "placeholder": "​",
            "style": "IPY_MODEL_d60beb3d025a4092a77fbf3bda4ac5c7",
            "value": "Downloading builder script: 100%"
          }
        },
        "d054701e2fa94c679b52737eeece303e": {
          "model_module": "@jupyter-widgets/controls",
          "model_name": "FloatProgressModel",
          "model_module_version": "1.5.0",
          "state": {
            "_dom_classes": [],
            "_model_module": "@jupyter-widgets/controls",
            "_model_module_version": "1.5.0",
            "_model_name": "FloatProgressModel",
            "_view_count": null,
            "_view_module": "@jupyter-widgets/controls",
            "_view_module_version": "1.5.0",
            "_view_name": "ProgressView",
            "bar_style": "success",
            "description": "",
            "description_tooltip": null,
            "layout": "IPY_MODEL_6251ffef4c474eedbf95bdd9e572e50a",
            "max": 4203,
            "min": 0,
            "orientation": "horizontal",
            "style": "IPY_MODEL_806d84f2b358421fa3f089f7096acffd",
            "value": 4203
          }
        },
        "77f52aad5758496d8206fe76ce316f65": {
          "model_module": "@jupyter-widgets/controls",
          "model_name": "HTMLModel",
          "model_module_version": "1.5.0",
          "state": {
            "_dom_classes": [],
            "_model_module": "@jupyter-widgets/controls",
            "_model_module_version": "1.5.0",
            "_model_name": "HTMLModel",
            "_view_count": null,
            "_view_module": "@jupyter-widgets/controls",
            "_view_module_version": "1.5.0",
            "_view_name": "HTMLView",
            "description": "",
            "description_tooltip": null,
            "layout": "IPY_MODEL_aca5662ea4764594bdb8bbbee55a0ca7",
            "placeholder": "​",
            "style": "IPY_MODEL_1531a55ce2ee4c50b609cd59a4614ab3",
            "value": " 4.20k/4.20k [00:00&lt;00:00, 267kB/s]"
          }
        },
        "16e5ed89c3b54bfbaf17a64b2ca3aa2e": {
          "model_module": "@jupyter-widgets/base",
          "model_name": "LayoutModel",
          "model_module_version": "1.2.0",
          "state": {
            "_model_module": "@jupyter-widgets/base",
            "_model_module_version": "1.2.0",
            "_model_name": "LayoutModel",
            "_view_count": null,
            "_view_module": "@jupyter-widgets/base",
            "_view_module_version": "1.2.0",
            "_view_name": "LayoutView",
            "align_content": null,
            "align_items": null,
            "align_self": null,
            "border": null,
            "bottom": null,
            "display": null,
            "flex": null,
            "flex_flow": null,
            "grid_area": null,
            "grid_auto_columns": null,
            "grid_auto_flow": null,
            "grid_auto_rows": null,
            "grid_column": null,
            "grid_gap": null,
            "grid_row": null,
            "grid_template_areas": null,
            "grid_template_columns": null,
            "grid_template_rows": null,
            "height": null,
            "justify_content": null,
            "justify_items": null,
            "left": null,
            "margin": null,
            "max_height": null,
            "max_width": null,
            "min_height": null,
            "min_width": null,
            "object_fit": null,
            "object_position": null,
            "order": null,
            "overflow": null,
            "overflow_x": null,
            "overflow_y": null,
            "padding": null,
            "right": null,
            "top": null,
            "visibility": null,
            "width": null
          }
        },
        "9f8f5399c1cd41d6b361f060f3829efc": {
          "model_module": "@jupyter-widgets/base",
          "model_name": "LayoutModel",
          "model_module_version": "1.2.0",
          "state": {
            "_model_module": "@jupyter-widgets/base",
            "_model_module_version": "1.2.0",
            "_model_name": "LayoutModel",
            "_view_count": null,
            "_view_module": "@jupyter-widgets/base",
            "_view_module_version": "1.2.0",
            "_view_name": "LayoutView",
            "align_content": null,
            "align_items": null,
            "align_self": null,
            "border": null,
            "bottom": null,
            "display": null,
            "flex": null,
            "flex_flow": null,
            "grid_area": null,
            "grid_auto_columns": null,
            "grid_auto_flow": null,
            "grid_auto_rows": null,
            "grid_column": null,
            "grid_gap": null,
            "grid_row": null,
            "grid_template_areas": null,
            "grid_template_columns": null,
            "grid_template_rows": null,
            "height": null,
            "justify_content": null,
            "justify_items": null,
            "left": null,
            "margin": null,
            "max_height": null,
            "max_width": null,
            "min_height": null,
            "min_width": null,
            "object_fit": null,
            "object_position": null,
            "order": null,
            "overflow": null,
            "overflow_x": null,
            "overflow_y": null,
            "padding": null,
            "right": null,
            "top": null,
            "visibility": null,
            "width": null
          }
        },
        "d60beb3d025a4092a77fbf3bda4ac5c7": {
          "model_module": "@jupyter-widgets/controls",
          "model_name": "DescriptionStyleModel",
          "model_module_version": "1.5.0",
          "state": {
            "_model_module": "@jupyter-widgets/controls",
            "_model_module_version": "1.5.0",
            "_model_name": "DescriptionStyleModel",
            "_view_count": null,
            "_view_module": "@jupyter-widgets/base",
            "_view_module_version": "1.2.0",
            "_view_name": "StyleView",
            "description_width": ""
          }
        },
        "6251ffef4c474eedbf95bdd9e572e50a": {
          "model_module": "@jupyter-widgets/base",
          "model_name": "LayoutModel",
          "model_module_version": "1.2.0",
          "state": {
            "_model_module": "@jupyter-widgets/base",
            "_model_module_version": "1.2.0",
            "_model_name": "LayoutModel",
            "_view_count": null,
            "_view_module": "@jupyter-widgets/base",
            "_view_module_version": "1.2.0",
            "_view_name": "LayoutView",
            "align_content": null,
            "align_items": null,
            "align_self": null,
            "border": null,
            "bottom": null,
            "display": null,
            "flex": null,
            "flex_flow": null,
            "grid_area": null,
            "grid_auto_columns": null,
            "grid_auto_flow": null,
            "grid_auto_rows": null,
            "grid_column": null,
            "grid_gap": null,
            "grid_row": null,
            "grid_template_areas": null,
            "grid_template_columns": null,
            "grid_template_rows": null,
            "height": null,
            "justify_content": null,
            "justify_items": null,
            "left": null,
            "margin": null,
            "max_height": null,
            "max_width": null,
            "min_height": null,
            "min_width": null,
            "object_fit": null,
            "object_position": null,
            "order": null,
            "overflow": null,
            "overflow_x": null,
            "overflow_y": null,
            "padding": null,
            "right": null,
            "top": null,
            "visibility": null,
            "width": null
          }
        },
        "806d84f2b358421fa3f089f7096acffd": {
          "model_module": "@jupyter-widgets/controls",
          "model_name": "ProgressStyleModel",
          "model_module_version": "1.5.0",
          "state": {
            "_model_module": "@jupyter-widgets/controls",
            "_model_module_version": "1.5.0",
            "_model_name": "ProgressStyleModel",
            "_view_count": null,
            "_view_module": "@jupyter-widgets/base",
            "_view_module_version": "1.2.0",
            "_view_name": "StyleView",
            "bar_color": null,
            "description_width": ""
          }
        },
        "aca5662ea4764594bdb8bbbee55a0ca7": {
          "model_module": "@jupyter-widgets/base",
          "model_name": "LayoutModel",
          "model_module_version": "1.2.0",
          "state": {
            "_model_module": "@jupyter-widgets/base",
            "_model_module_version": "1.2.0",
            "_model_name": "LayoutModel",
            "_view_count": null,
            "_view_module": "@jupyter-widgets/base",
            "_view_module_version": "1.2.0",
            "_view_name": "LayoutView",
            "align_content": null,
            "align_items": null,
            "align_self": null,
            "border": null,
            "bottom": null,
            "display": null,
            "flex": null,
            "flex_flow": null,
            "grid_area": null,
            "grid_auto_columns": null,
            "grid_auto_flow": null,
            "grid_auto_rows": null,
            "grid_column": null,
            "grid_gap": null,
            "grid_row": null,
            "grid_template_areas": null,
            "grid_template_columns": null,
            "grid_template_rows": null,
            "height": null,
            "justify_content": null,
            "justify_items": null,
            "left": null,
            "margin": null,
            "max_height": null,
            "max_width": null,
            "min_height": null,
            "min_width": null,
            "object_fit": null,
            "object_position": null,
            "order": null,
            "overflow": null,
            "overflow_x": null,
            "overflow_y": null,
            "padding": null,
            "right": null,
            "top": null,
            "visibility": null,
            "width": null
          }
        },
        "1531a55ce2ee4c50b609cd59a4614ab3": {
          "model_module": "@jupyter-widgets/controls",
          "model_name": "DescriptionStyleModel",
          "model_module_version": "1.5.0",
          "state": {
            "_model_module": "@jupyter-widgets/controls",
            "_model_module_version": "1.5.0",
            "_model_name": "DescriptionStyleModel",
            "_view_count": null,
            "_view_module": "@jupyter-widgets/base",
            "_view_module_version": "1.2.0",
            "_view_name": "StyleView",
            "description_width": ""
          }
        }
      }
    },
    "accelerator": "GPU"
  },
  "nbformat": 4,
  "nbformat_minor": 0
}